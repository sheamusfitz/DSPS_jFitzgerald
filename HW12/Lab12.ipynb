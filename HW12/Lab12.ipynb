{
  "nbformat": 4,
  "nbformat_minor": 0,
  "metadata": {
    "colab": {
      "name": "Lab12.ipynb",
      "provenance": [],
      "collapsed_sections": [],
      "include_colab_link": true
    },
    "kernelspec": {
      "name": "python3",
      "display_name": "Python 3"
    }
  },
  "cells": [
    {
      "cell_type": "markdown",
      "metadata": {
        "id": "view-in-github",
        "colab_type": "text"
      },
      "source": [
        "<a href=\"https://colab.research.google.com/github/sheamusfitz/DSPS_jFitzgerald/blob/master/HW12/Lab12.ipynb\" target=\"_parent\"><img src=\"https://colab.research.google.com/assets/colab-badge.svg\" alt=\"Open In Colab\"/></a>"
      ]
    },
    {
      "cell_type": "code",
      "metadata": {
        "id": "34nBuWWqdPc2",
        "colab_type": "code",
        "outputId": "15aa397d-6b44-4631-c63b-b5d7cbdc80c3",
        "colab": {
          "base_uri": "https://localhost:8080/",
          "height": 65
        }
      },
      "source": [
        "import tensorflow as tf"
      ],
      "execution_count": 1,
      "outputs": [
        {
          "output_type": "display_data",
          "data": {
            "text/html": [
              "<p style=\"color: red;\">\n",
              "The default version of TensorFlow in Colab will soon switch to TensorFlow 2.x.<br>\n",
              "We recommend you <a href=\"https://www.tensorflow.org/guide/migrate\" target=\"_blank\">upgrade</a> now \n",
              "or ensure your notebook will continue to use TensorFlow 1.x via the <code>%tensorflow_version 1.x</code> magic:\n",
              "<a href=\"https://colab.research.google.com/notebooks/tensorflow_version.ipynb\" target=\"_blank\">more info</a>.</p>\n"
            ],
            "text/plain": [
              "<IPython.core.display.HTML object>"
            ]
          },
          "metadata": {
            "tags": []
          }
        }
      ]
    },
    {
      "cell_type": "code",
      "metadata": {
        "id": "RAVt8_51dRng",
        "colab_type": "code",
        "colab": {}
      },
      "source": [
        "from tensorflow import keras\n",
        "import pylab as pl\n",
        "import numpy as np\n",
        "np.random.seed(104049)"
      ],
      "execution_count": 0,
      "outputs": []
    },
    {
      "cell_type": "markdown",
      "metadata": {
        "id": "YP-yIz7mdcfI",
        "colab_type": "text"
      },
      "source": [
        "# Import Data"
      ]
    },
    {
      "cell_type": "code",
      "metadata": {
        "id": "o1YyZeD9dZn_",
        "colab_type": "code",
        "colab": {}
      },
      "source": [
        "(train_input, train_labels), (test_input,\n",
        "                              test_labels) = keras.datasets.mnist.load_data()"
      ],
      "execution_count": 0,
      "outputs": []
    },
    {
      "cell_type": "markdown",
      "metadata": {
        "id": "ZsftFBw4fEIK",
        "colab_type": "text"
      },
      "source": [
        "# Understanding"
      ]
    },
    {
      "cell_type": "markdown",
      "metadata": {
        "id": "4RUr8S9asUWU",
        "colab_type": "text"
      },
      "source": [
        "## Task 1"
      ]
    },
    {
      "cell_type": "code",
      "metadata": {
        "id": "mkdtifNndcCp",
        "colab_type": "code",
        "outputId": "900acaed-3249-4d3a-8a2b-5ec724fbdc58",
        "colab": {
          "base_uri": "https://localhost:8080/",
          "height": 54
        }
      },
      "source": [
        "print(\"The train input shape is\", train_input.shape, '\\n',\n",
        "      \"and the labels shape is\", train_labels.shape)"
      ],
      "execution_count": 4,
      "outputs": [
        {
          "output_type": "stream",
          "text": [
            "The train input shape is (60000, 28, 28) \n",
            " and the labels shape is (60000,)\n"
          ],
          "name": "stdout"
        }
      ]
    },
    {
      "cell_type": "markdown",
      "metadata": {
        "id": "HHlDY9aSsuwg",
        "colab_type": "text"
      },
      "source": [
        "## Task 2"
      ]
    },
    {
      "cell_type": "code",
      "metadata": {
        "id": "cCuLLgoSdkaY",
        "colab_type": "code",
        "outputId": "cf856022-bfa6-4d8f-8e67-b0106211aaa9",
        "colab": {
          "base_uri": "https://localhost:8080/",
          "height": 35
        }
      },
      "source": [
        "print(\"the label of the 10th observation is\", train_labels[9])"
      ],
      "execution_count": 5,
      "outputs": [
        {
          "output_type": "stream",
          "text": [
            "the label of the 10th observation is 4\n"
          ],
          "name": "stdout"
        }
      ]
    },
    {
      "cell_type": "markdown",
      "metadata": {
        "id": "xw2dXYLTswTS",
        "colab_type": "text"
      },
      "source": [
        "## Task 3"
      ]
    },
    {
      "cell_type": "code",
      "metadata": {
        "id": "jq3eIRpMdxQV",
        "colab_type": "code",
        "outputId": "cd4ecac7-e233-4f1b-cc8b-26342e286d26",
        "colab": {
          "base_uri": "https://localhost:8080/",
          "height": 35
        }
      },
      "source": [
        "print(\"train_input[1].shape: \", train_input[1].shape)"
      ],
      "execution_count": 6,
      "outputs": [
        {
          "output_type": "stream",
          "text": [
            "train_input[1].shape:  (28, 28)\n"
          ],
          "name": "stdout"
        }
      ]
    },
    {
      "cell_type": "markdown",
      "metadata": {
        "id": "gY3wvlGJsx93",
        "colab_type": "text"
      },
      "source": [
        "## Task 4"
      ]
    },
    {
      "cell_type": "code",
      "metadata": {
        "id": "VuHMhOrId7ZW",
        "colab_type": "code",
        "outputId": "61bd68a9-1839-4483-d0d0-c15d3cca2827",
        "colab": {
          "base_uri": "https://localhost:8080/",
          "height": 269
        }
      },
      "source": [
        "imax = 6\n",
        "for i in range(imax):\n",
        "    for j in range(imax):\n",
        "        pl.subplot(imax,imax,i*imax+j+1)\n",
        "        pl.imshow(train_input[i*imax+j])"
      ],
      "execution_count": 7,
      "outputs": [
        {
          "output_type": "display_data",
          "data": {
            "image/png": "[encoded data removed]",
            "text/plain": [
              "<Figure size 432x288 with 36 Axes>"
            ]
          },
          "metadata": {
            "tags": []
          }
        }
      ]
    },
    {
      "cell_type": "markdown",
      "metadata": {
        "id": "vwDVikf4fGAN",
        "colab_type": "text"
      },
      "source": [
        "# Model"
      ]
    },
    {
      "cell_type": "markdown",
      "metadata": {
        "id": "qXG2Bb1Is6DU",
        "colab_type": "text"
      },
      "source": [
        "## Task 5"
      ]
    },
    {
      "cell_type": "code",
      "metadata": {
        "id": "uh9pPL0leINS",
        "colab_type": "code",
        "outputId": "b8de5421-6b03-4b83-c71b-fd717adbb0e8",
        "colab": {
          "base_uri": "https://localhost:8080/",
          "height": 92
        }
      },
      "source": [
        "model = keras.Sequential([keras.layers.Flatten(input_shape=(28,28)),\n",
        "                         keras.layers.Dense(128, activation=tf.nn.sigmoid),\n",
        "                         keras.layers.Dense(10,activation=tf.nn.softmax)])"
      ],
      "execution_count": 8,
      "outputs": [
        {
          "output_type": "stream",
          "text": [
            "WARNING:tensorflow:From /usr/local/lib/python3.6/dist-packages/tensorflow_core/python/ops/resource_variable_ops.py:1630: calling BaseResourceVariable.__init__ (from tensorflow.python.ops.resource_variable_ops) with constraint is deprecated and will be removed in a future version.\n",
            "Instructions for updating:\n",
            "If using Keras pass *_constraint arguments to layers.\n"
          ],
          "name": "stdout"
        }
      ]
    },
    {
      "cell_type": "markdown",
      "metadata": {
        "id": "1j6ZTtA_fcRr",
        "colab_type": "text"
      },
      "source": [
        "# Hyperparameters"
      ]
    },
    {
      "cell_type": "markdown",
      "metadata": {
        "id": "FUb0dAaDs8KG",
        "colab_type": "text"
      },
      "source": [
        "## Task 6"
      ]
    },
    {
      "cell_type": "code",
      "metadata": {
        "id": "-sMNpGNBfRW_",
        "colab_type": "code",
        "colab": {}
      },
      "source": [
        "model.compile?"
      ],
      "execution_count": 0,
      "outputs": []
    },
    {
      "cell_type": "code",
      "metadata": {
        "id": "w0hoLBI-fi9z",
        "colab_type": "code",
        "colab": {}
      },
      "source": [
        "model.compile(optimizer=tf.train.GradientDescentOptimizer(learning_rate=0.01),\n",
        "              loss='sparse_categorical_crossentropy', metrics=['accuracy'])"
      ],
      "execution_count": 0,
      "outputs": []
    },
    {
      "cell_type": "code",
      "metadata": {
        "id": "DREkMh7FgAu7",
        "colab_type": "code",
        "outputId": "561d8da3-3917-471b-fbab-c89d564dca46",
        "colab": {
          "base_uri": "https://localhost:8080/",
          "height": 237
        }
      },
      "source": [
        "model.fit(train_input, train_labels, epochs=5)"
      ],
      "execution_count": 11,
      "outputs": [
        {
          "output_type": "stream",
          "text": [
            "Train on 60000 samples\n",
            "Epoch 1/5\n",
            "60000/60000 [==============================] - 4s 62us/sample - loss: 0.6792 - acc: 0.8313\n",
            "Epoch 2/5\n",
            "60000/60000 [==============================] - 4s 59us/sample - loss: 0.3746 - acc: 0.8985\n",
            "Epoch 3/5\n",
            "60000/60000 [==============================] - 4s 60us/sample - loss: 0.3193 - acc: 0.9116\n",
            "Epoch 4/5\n",
            "60000/60000 [==============================] - 4s 59us/sample - loss: 0.2892 - acc: 0.9186\n",
            "Epoch 5/5\n",
            "60000/60000 [==============================] - 3s 58us/sample - loss: 0.2714 - acc: 0.9236\n"
          ],
          "name": "stdout"
        },
        {
          "output_type": "execute_result",
          "data": {
            "text/plain": [
              "<tensorflow.python.keras.callbacks.History at 0x7ff6b771a1d0>"
            ]
          },
          "metadata": {
            "tags": []
          },
          "execution_count": 11
        }
      ]
    },
    {
      "cell_type": "markdown",
      "metadata": {
        "id": "_litry9XtKwi",
        "colab_type": "text"
      },
      "source": [
        "## Task 7"
      ]
    },
    {
      "cell_type": "code",
      "metadata": {
        "id": "1jWmJiIngCof",
        "colab_type": "code",
        "colab": {
          "base_uri": "https://localhost:8080/",
          "height": 35
        },
        "outputId": "7f044b41-b38f-444e-814d-3c969a2bcbb5"
      },
      "source": [
        "test_loss, test_acc = model.evaluate(test_input, test_labels)"
      ],
      "execution_count": 19,
      "outputs": [
        {
          "output_type": "stream",
          "text": [
            "10000/10000 [==============================] - 0s 30us/sample - loss: 0.2491 - acc: 0.9302\n"
          ],
          "name": "stdout"
        }
      ]
    },
    {
      "cell_type": "markdown",
      "metadata": {
        "id": "psrmliD6t1eX",
        "colab_type": "text"
      },
      "source": [
        "## Task 8"
      ]
    },
    {
      "cell_type": "code",
      "metadata": {
        "id": "CBEH3NtJtjbh",
        "colab_type": "code",
        "colab": {
          "base_uri": "https://localhost:8080/",
          "height": 35
        },
        "outputId": "674fa7b9-0c96-4c5e-d7c6-4a933a8b8574"
      },
      "source": [
        "pred = model.predict(test_input, verbose=1)"
      ],
      "execution_count": 20,
      "outputs": [
        {
          "output_type": "stream",
          "text": [
            "10000/10000 [==============================] - 0s 24us/sample\n"
          ],
          "name": "stdout"
        }
      ]
    },
    {
      "cell_type": "code",
      "metadata": {
        "colab_type": "code",
        "outputId": "081cba20-8940-4d0f-f758-a5dd8b353f8f",
        "id": "X4o0xxb5vUHV",
        "colab": {
          "base_uri": "https://localhost:8080/",
          "height": 283
        }
      },
      "source": [
        "pl.plot(pred[9])"
      ],
      "execution_count": 21,
      "outputs": [
        {
          "output_type": "execute_result",
          "data": {
            "text/plain": [
              "[<matplotlib.lines.Line2D at 0x7ff6b7d86400>]"
            ]
          },
          "metadata": {
            "tags": []
          },
          "execution_count": 21
        },
        {
          "output_type": "display_data",
          "data": {
            "image/png": "[encoded data removed]",
            "text/plain": [
              "<Figure size 432x288 with 1 Axes>"
            ]
          },
          "metadata": {
            "tags": []
          }
        }
      ]
    },
    {
      "cell_type": "markdown",
      "metadata": {
        "id": "OKknGTskv3Br",
        "colab_type": "text"
      },
      "source": [
        "## Task 9"
      ]
    },
    {
      "cell_type": "code",
      "metadata": {
        "id": "8zBMR-opuPY6",
        "colab_type": "code",
        "colab": {
          "base_uri": "https://localhost:8080/",
          "height": 35
        },
        "outputId": "1781fc26-3e7b-40ff-da36-0f789eaa262b"
      },
      "source": [
        "for i, pre in enumerate(pred):\n",
        "    if np.argmax(pre) != test_labels[i]:\n",
        "        print(i)\n",
        "        firstfail = i\n",
        "        break"
      ],
      "execution_count": 24,
      "outputs": [
        {
          "output_type": "stream",
          "text": [
            "8\n"
          ],
          "name": "stdout"
        }
      ]
    },
    {
      "cell_type": "code",
      "metadata": {
        "id": "jkeuR7hSvs2f",
        "colab_type": "code",
        "colab": {
          "base_uri": "https://localhost:8080/",
          "height": 283
        },
        "outputId": "5e3db3ff-b0ea-45cc-ecff-c7043f43a823"
      },
      "source": [
        "pl.plot(pred[firstfail])"
      ],
      "execution_count": 25,
      "outputs": [
        {
          "output_type": "execute_result",
          "data": {
            "text/plain": [
              "[<matplotlib.lines.Line2D at 0x7ff6f6b50438>]"
            ]
          },
          "metadata": {
            "tags": []
          },
          "execution_count": 25
        },
        {
          "output_type": "display_data",
          "data": {
            "image/png": "[encoded data removed]",
            "text/plain": [
              "<Figure size 432x288 with 1 Axes>"
            ]
          },
          "metadata": {
            "tags": []
          }
        }
      ]
    },
    {
      "cell_type": "code",
      "metadata": {
        "id": "qAiZOU32wPWf",
        "colab_type": "code",
        "colab": {
          "base_uri": "https://localhost:8080/",
          "height": 283
        },
        "outputId": "b9d852ee-2188-42f9-c48b-9c76da581b74"
      },
      "source": [
        "pl.imshow(test_input[firstfail])"
      ],
      "execution_count": 27,
      "outputs": [
        {
          "output_type": "execute_result",
          "data": {
            "text/plain": [
              "<matplotlib.image.AxesImage at 0x7ff6b787a5c0>"
            ]
          },
          "metadata": {
            "tags": []
          },
          "execution_count": 27
        },
        {
          "output_type": "display_data",
          "data": {
            "image/png": "[encoded data removed]",
            "text/plain": [
              "<Figure size 432x288 with 1 Axes>"
            ]
          },
          "metadata": {
            "tags": []
          }
        }
      ]
    },
    {
      "cell_type": "code",
      "metadata": {
        "id": "xz79pcLUxBR1",
        "colab_type": "code",
        "colab": {
          "base_uri": "https://localhost:8080/",
          "height": 35
        },
        "outputId": "0ca14289-01bb-41a4-a543-624241fbce69"
      },
      "source": [
        "test_labels[firstfail]"
      ],
      "execution_count": 28,
      "outputs": [
        {
          "output_type": "execute_result",
          "data": {
            "text/plain": [
              "5"
            ]
          },
          "metadata": {
            "tags": []
          },
          "execution_count": 28
        }
      ]
    },
    {
      "cell_type": "markdown",
      "metadata": {
        "id": "CgcNL2Wqx43i",
        "colab_type": "text"
      },
      "source": [
        "*can you really blame it though? that is one ***ugly*** '5'*"
      ]
    }
  ]
}