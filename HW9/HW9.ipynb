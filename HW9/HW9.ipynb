{
  "nbformat": 4,
  "nbformat_minor": 0,
  "metadata": {
    "colab": {
      "name": "HW9.ipynb",
      "provenance": [],
      "collapsed_sections": [],
      "include_colab_link": true
    },
    "kernelspec": {
      "name": "python3",
      "display_name": "Python 3"
    }
  },
  "cells": [
    {
      "cell_type": "markdown",
      "metadata": {
        "id": "view-in-github",
        "colab_type": "text"
      },
      "source": [
        "<a href=\"https://colab.research.google.com/github/sheamusfitz/DSPS_jFitzgerald/blob/master/HW9/HW9.ipynb\" target=\"_parent\"><img src=\"https://colab.research.google.com/assets/colab-badge.svg\" alt=\"Open In Colab\"/></a>"
      ]
    },
    {
      "cell_type": "code",
      "metadata": {
        "id": "IyMKOKciC0ma",
        "colab_type": "code",
        "colab": {
          "base_uri": "https://localhost:8080/",
          "height": 129
        },
        "outputId": "5b1948fc-11aa-43e3-dace-4e1f392a580b"
      },
      "source": [
        "from google.colab import drive\n",
        "drive.mount('/content/drive')"
      ],
      "execution_count": 2,
      "outputs": [
        {
          "output_type": "stream",
          "text": [
            "Go to this URL in a browser: https://accounts.google.com/o/oauth2/auth?client_id=947318989803-6bn6qk8qdgf4n4g3pfee6491hc0brc4i.apps.googleusercontent.com&redirect_uri=urn%3Aietf%3Awg%3Aoauth%3A2.0%3Aoob&scope=email%20https%3A%2F%2Fwww.googleapis.com%2Fauth%2Fdocs.test%20https%3A%2F%2Fwww.googleapis.com%2Fauth%2Fdrive%20https%3A%2F%2Fwww.googleapis.com%2Fauth%2Fdrive.photos.readonly%20https%3A%2F%2Fwww.googleapis.com%2Fauth%2Fpeopleapi.readonly&response_type=code\n",
            "\n",
            "Enter your authorization code:\n",
            "··········\n",
            "Mounted at /content/drive\n"
          ],
          "name": "stdout"
        }
      ]
    },
    {
      "cell_type": "code",
      "metadata": {
        "id": "0MCkNYknC38-",
        "colab_type": "code",
        "colab": {
          "base_uri": "https://localhost:8080/",
          "height": 35
        },
        "outputId": "4f2b4287-5fd8-49e8-8f62-a47c71d22a33"
      },
      "source": [
        "import pandas as pd\n",
        "import numpy as np\n",
        "import pylab as pl\n",
        "import os\n",
        "import json \n",
        "import shutil\n",
        "import sklearn as sk\n",
        "from sklearn.model_selection import train_test_split \n",
        "import __future__\n",
        "%pylab inline"
      ],
      "execution_count": 3,
      "outputs": [
        {
          "output_type": "stream",
          "text": [
            "Populating the interactive namespace from numpy and matplotlib\n"
          ],
          "name": "stdout"
        }
      ]
    },
    {
      "cell_type": "code",
      "metadata": {
        "id": "AMaV6W3jEIsl",
        "colab_type": "code",
        "colab": {
          "base_uri": "https://localhost:8080/",
          "height": 219
        },
        "outputId": "added5be-4221-4b00-f9a7-c7a569e65dc7"
      },
      "source": [
        "pip install kaggle --upgrade"
      ],
      "execution_count": 4,
      "outputs": [
        {
          "output_type": "stream",
          "text": [
            "Requirement already up-to-date: kaggle in /usr/local/lib/python3.6/dist-packages (1.5.6)\n",
            "Requirement already satisfied, skipping upgrade: tqdm in /usr/local/lib/python3.6/dist-packages (from kaggle) (4.28.1)\n",
            "Requirement already satisfied, skipping upgrade: urllib3<1.25,>=1.21.1 in /usr/local/lib/python3.6/dist-packages (from kaggle) (1.24.3)\n",
            "Requirement already satisfied, skipping upgrade: six>=1.10 in /usr/local/lib/python3.6/dist-packages (from kaggle) (1.12.0)\n",
            "Requirement already satisfied, skipping upgrade: requests in /usr/local/lib/python3.6/dist-packages (from kaggle) (2.21.0)\n",
            "Requirement already satisfied, skipping upgrade: certifi in /usr/local/lib/python3.6/dist-packages (from kaggle) (2019.9.11)\n",
            "Requirement already satisfied, skipping upgrade: python-slugify in /usr/local/lib/python3.6/dist-packages (from kaggle) (4.0.0)\n",
            "Requirement already satisfied, skipping upgrade: python-dateutil in /usr/local/lib/python3.6/dist-packages (from kaggle) (2.6.1)\n",
            "Requirement already satisfied, skipping upgrade: chardet<3.1.0,>=3.0.2 in /usr/local/lib/python3.6/dist-packages (from requests->kaggle) (3.0.4)\n",
            "Requirement already satisfied, skipping upgrade: idna<2.9,>=2.5 in /usr/local/lib/python3.6/dist-packages (from requests->kaggle) (2.8)\n",
            "Requirement already satisfied, skipping upgrade: text-unidecode>=1.3 in /usr/local/lib/python3.6/dist-packages (from python-slugify->kaggle) (1.3)\n"
          ],
          "name": "stdout"
        }
      ]
    },
    {
      "cell_type": "markdown",
      "metadata": {
        "id": "cA2JwcjAF5VS",
        "colab_type": "text"
      },
      "source": [
        "## Kaggle Validation"
      ]
    },
    {
      "cell_type": "code",
      "metadata": {
        "id": "inO89Aj7DE85",
        "colab_type": "code",
        "colab": {
          "base_uri": "https://localhost:8080/",
          "height": 35
        },
        "outputId": "0f88c34a-d8d2-44ba-f8ff-97b3ea3bfb79"
      },
      "source": [
        "ls"
      ],
      "execution_count": 5,
      "outputs": [
        {
          "output_type": "stream",
          "text": [
            "\u001b[0m\u001b[01;34mdrive\u001b[0m/  \u001b[01;34msample_data\u001b[0m/\n"
          ],
          "name": "stdout"
        }
      ]
    },
    {
      "cell_type": "code",
      "metadata": {
        "id": "4muog8_EDGVM",
        "colab_type": "code",
        "colab": {
          "base_uri": "https://localhost:8080/",
          "height": 35
        },
        "outputId": "f2236ff8-ee03-438c-d05c-ca47f0699c5c"
      },
      "source": [
        "cd /content/drive/'My Drive'/dsps/HW9/kaggleHiggsBoson"
      ],
      "execution_count": 6,
      "outputs": [
        {
          "output_type": "stream",
          "text": [
            "/content/drive/My Drive/dsps/HW9/kaggleHiggsBoson\n"
          ],
          "name": "stdout"
        }
      ]
    },
    {
      "cell_type": "code",
      "metadata": {
        "id": "iqsKz-YdFaY3",
        "colab_type": "code",
        "colab": {}
      },
      "source": [
        "# mkdir HW9"
      ],
      "execution_count": 0,
      "outputs": []
    },
    {
      "cell_type": "code",
      "metadata": {
        "id": "HrBJbNPfFgSm",
        "colab_type": "code",
        "colab": {}
      },
      "source": [
        "# mv kaggle.json HW9/"
      ],
      "execution_count": 0,
      "outputs": []
    },
    {
      "cell_type": "code",
      "metadata": {
        "id": "qwaZB_tWFj83",
        "colab_type": "code",
        "colab": {}
      },
      "source": [
        "# cd HW9"
      ],
      "execution_count": 0,
      "outputs": []
    },
    {
      "cell_type": "code",
      "metadata": {
        "id": "4Yn2ykGvDR4Q",
        "colab_type": "code",
        "colab": {}
      },
      "source": [
        "# !mkdir ~/.kaggle"
      ],
      "execution_count": 0,
      "outputs": []
    },
    {
      "cell_type": "code",
      "metadata": {
        "id": "jOLn0bNPD4MV",
        "colab_type": "code",
        "colab": {}
      },
      "source": [
        "# mv kaggle.json ~/.kaggle/"
      ],
      "execution_count": 0,
      "outputs": []
    },
    {
      "cell_type": "code",
      "metadata": {
        "id": "BFWcq8eTVlj3",
        "colab_type": "code",
        "colab": {}
      },
      "source": [
        "# cd /content/drive/My\\ Drive/dsps/HW9"
      ],
      "execution_count": 0,
      "outputs": []
    },
    {
      "cell_type": "code",
      "metadata": {
        "id": "b0qxLykUVyZV",
        "colab_type": "code",
        "colab": {}
      },
      "source": [
        "# ls kaggleHiggsBoson/ -a"
      ],
      "execution_count": 0,
      "outputs": []
    },
    {
      "cell_type": "code",
      "metadata": {
        "id": "Gqw3OoVkD7_b",
        "colab_type": "code",
        "colab": {}
      },
      "source": [
        "# ls ~/.kaggle"
      ],
      "execution_count": 0,
      "outputs": []
    },
    {
      "cell_type": "code",
      "metadata": {
        "id": "pdsx6PU8Ftkv",
        "colab_type": "code",
        "colab": {}
      },
      "source": [
        "# !chmod 600 ~/.kaggle/kaggle.json"
      ],
      "execution_count": 0,
      "outputs": []
    },
    {
      "cell_type": "code",
      "metadata": {
        "id": "jruaXEisFzJO",
        "colab_type": "code",
        "colab": {}
      },
      "source": [
        "#validating username and key for kaggle\n",
        "# envs = json.load(open(\"/root/.kaggle/kaggle.json\", \"r\"))\n",
        "# os.environ[\"KAGGLE_USERNAME\"] = envs['username']\n",
        "# os.environ[\"KAGGLE_KEY\"] = envs['key']\n"
      ],
      "execution_count": 0,
      "outputs": []
    },
    {
      "cell_type": "code",
      "metadata": {
        "id": "hTAuuHN9F3Pt",
        "colab_type": "code",
        "colab": {}
      },
      "source": [
        "# !kaggle datasets list"
      ],
      "execution_count": 0,
      "outputs": []
    },
    {
      "cell_type": "markdown",
      "metadata": {
        "id": "6cLPN4-ZGKY-",
        "colab_type": "text"
      },
      "source": [
        "## Data Indegestion"
      ]
    },
    {
      "cell_type": "code",
      "metadata": {
        "id": "1MJlW_e2GBZm",
        "colab_type": "code",
        "colab": {}
      },
      "source": [
        "# ls"
      ],
      "execution_count": 0,
      "outputs": []
    },
    {
      "cell_type": "code",
      "metadata": {
        "id": "z1_85d_8Ggk1",
        "colab_type": "code",
        "colab": {}
      },
      "source": [
        "# pwd"
      ],
      "execution_count": 0,
      "outputs": []
    },
    {
      "cell_type": "code",
      "metadata": {
        "id": "CCm59NZBGhNU",
        "colab_type": "code",
        "colab": {}
      },
      "source": [
        "# !mkdir '/content/drive/My Drive/dsps/HW9'/kaggleHiggsBoson"
      ],
      "execution_count": 0,
      "outputs": []
    },
    {
      "cell_type": "code",
      "metadata": {
        "id": "PzJ-EftXG_CU",
        "colab_type": "code",
        "colab": {}
      },
      "source": [
        "# pwd"
      ],
      "execution_count": 0,
      "outputs": []
    },
    {
      "cell_type": "code",
      "metadata": {
        "id": "S-zafCKtG_5B",
        "colab_type": "code",
        "colab": {}
      },
      "source": [
        "# cd kaggleHiggsBoson/"
      ],
      "execution_count": 0,
      "outputs": []
    },
    {
      "cell_type": "code",
      "metadata": {
        "id": "PbyNKBnlHBGy",
        "colab_type": "code",
        "colab": {}
      },
      "source": [
        "# ls"
      ],
      "execution_count": 0,
      "outputs": []
    },
    {
      "cell_type": "code",
      "metadata": {
        "id": "t5ysGNd9HBaR",
        "colab_type": "code",
        "colab": {}
      },
      "source": [
        "# !kaggle competitions download -c higgs-boson"
      ],
      "execution_count": 0,
      "outputs": []
    },
    {
      "cell_type": "code",
      "metadata": {
        "id": "v4fWRCSWHExI",
        "colab_type": "code",
        "colab": {}
      },
      "source": [
        "# ls"
      ],
      "execution_count": 0,
      "outputs": []
    },
    {
      "cell_type": "code",
      "metadata": {
        "id": "2Q3eLxS7IvD5",
        "colab_type": "code",
        "colab": {}
      },
      "source": [
        "# !unzip training.zip"
      ],
      "execution_count": 0,
      "outputs": []
    },
    {
      "cell_type": "code",
      "metadata": {
        "id": "HJy3hCGcI1Ry",
        "colab_type": "code",
        "colab": {}
      },
      "source": [
        "# !unzip test.zip"
      ],
      "execution_count": 0,
      "outputs": []
    },
    {
      "cell_type": "code",
      "metadata": {
        "id": "DkcS5kRaI3qi",
        "colab_type": "code",
        "colab": {}
      },
      "source": [
        "# ls -lh"
      ],
      "execution_count": 0,
      "outputs": []
    },
    {
      "cell_type": "markdown",
      "metadata": {
        "id": "_OBS3GGcI9JN",
        "colab_type": "text"
      },
      "source": [
        "## Reading and Manipulating Data"
      ]
    },
    {
      "cell_type": "code",
      "metadata": {
        "id": "dD8wYbW1I404",
        "colab_type": "code",
        "colab": {}
      },
      "source": [
        "higgsdata = pd.read_csv(\"training.csv\")\n",
        "\n",
        "weights = higgsdata['Weight'].to_numpy()\n",
        "labels = higgsdata['Label'].to_numpy()\n",
        "higgsdata.drop(labels = ['Weight', 'Label'], axis = 1, inplace = True)"
      ],
      "execution_count": 0,
      "outputs": []
    },
    {
      "cell_type": "code",
      "metadata": {
        "id": "D4H2rwUJJeBB",
        "colab_type": "code",
        "colab": {
          "base_uri": "https://localhost:8080/",
          "height": 226
        },
        "outputId": "90f204ea-f059-4f0a-e408-07d6f69c9c13"
      },
      "source": [
        "higgsdata.head()"
      ],
      "execution_count": 29,
      "outputs": [
        {
          "output_type": "execute_result",
          "data": {
            "text/html": [
              "<div>\n",
              "<style scoped>\n",
              "    .dataframe tbody tr th:only-of-type {\n",
              "        vertical-align: middle;\n",
              "    }\n",
              "\n",
              "    .dataframe tbody tr th {\n",
              "        vertical-align: top;\n",
              "    }\n",
              "\n",
              "    .dataframe thead th {\n",
              "        text-align: right;\n",
              "    }\n",
              "</style>\n",
              "<table border=\"1\" class=\"dataframe\">\n",
              "  <thead>\n",
              "    <tr style=\"text-align: right;\">\n",
              "      <th></th>\n",
              "      <th>EventId</th>\n",
              "      <th>DER_mass_MMC</th>\n",
              "      <th>DER_mass_transverse_met_lep</th>\n",
              "      <th>DER_mass_vis</th>\n",
              "      <th>DER_pt_h</th>\n",
              "      <th>DER_deltaeta_jet_jet</th>\n",
              "      <th>DER_mass_jet_jet</th>\n",
              "      <th>DER_prodeta_jet_jet</th>\n",
              "      <th>DER_deltar_tau_lep</th>\n",
              "      <th>DER_pt_tot</th>\n",
              "      <th>DER_sum_pt</th>\n",
              "      <th>DER_pt_ratio_lep_tau</th>\n",
              "      <th>DER_met_phi_centrality</th>\n",
              "      <th>DER_lep_eta_centrality</th>\n",
              "      <th>PRI_tau_pt</th>\n",
              "      <th>PRI_tau_eta</th>\n",
              "      <th>PRI_tau_phi</th>\n",
              "      <th>PRI_lep_pt</th>\n",
              "      <th>PRI_lep_eta</th>\n",
              "      <th>PRI_lep_phi</th>\n",
              "      <th>PRI_met</th>\n",
              "      <th>PRI_met_phi</th>\n",
              "      <th>PRI_met_sumet</th>\n",
              "      <th>PRI_jet_num</th>\n",
              "      <th>PRI_jet_leading_pt</th>\n",
              "      <th>PRI_jet_leading_eta</th>\n",
              "      <th>PRI_jet_leading_phi</th>\n",
              "      <th>PRI_jet_subleading_pt</th>\n",
              "      <th>PRI_jet_subleading_eta</th>\n",
              "      <th>PRI_jet_subleading_phi</th>\n",
              "      <th>PRI_jet_all_pt</th>\n",
              "    </tr>\n",
              "  </thead>\n",
              "  <tbody>\n",
              "    <tr>\n",
              "      <th>0</th>\n",
              "      <td>100000</td>\n",
              "      <td>138.470</td>\n",
              "      <td>51.655</td>\n",
              "      <td>97.827</td>\n",
              "      <td>27.980</td>\n",
              "      <td>0.91</td>\n",
              "      <td>124.711</td>\n",
              "      <td>2.666</td>\n",
              "      <td>3.064</td>\n",
              "      <td>41.928</td>\n",
              "      <td>197.760</td>\n",
              "      <td>1.582</td>\n",
              "      <td>1.396</td>\n",
              "      <td>0.2</td>\n",
              "      <td>32.638</td>\n",
              "      <td>1.017</td>\n",
              "      <td>0.381</td>\n",
              "      <td>51.626</td>\n",
              "      <td>2.273</td>\n",
              "      <td>-2.414</td>\n",
              "      <td>16.824</td>\n",
              "      <td>-0.277</td>\n",
              "      <td>258.733</td>\n",
              "      <td>2</td>\n",
              "      <td>67.435</td>\n",
              "      <td>2.150</td>\n",
              "      <td>0.444</td>\n",
              "      <td>46.062</td>\n",
              "      <td>1.24</td>\n",
              "      <td>-2.475</td>\n",
              "      <td>113.497</td>\n",
              "    </tr>\n",
              "    <tr>\n",
              "      <th>1</th>\n",
              "      <td>100001</td>\n",
              "      <td>160.937</td>\n",
              "      <td>68.768</td>\n",
              "      <td>103.235</td>\n",
              "      <td>48.146</td>\n",
              "      <td>-999.00</td>\n",
              "      <td>-999.000</td>\n",
              "      <td>-999.000</td>\n",
              "      <td>3.473</td>\n",
              "      <td>2.078</td>\n",
              "      <td>125.157</td>\n",
              "      <td>0.879</td>\n",
              "      <td>1.414</td>\n",
              "      <td>-999.0</td>\n",
              "      <td>42.014</td>\n",
              "      <td>2.039</td>\n",
              "      <td>-3.011</td>\n",
              "      <td>36.918</td>\n",
              "      <td>0.501</td>\n",
              "      <td>0.103</td>\n",
              "      <td>44.704</td>\n",
              "      <td>-1.916</td>\n",
              "      <td>164.546</td>\n",
              "      <td>1</td>\n",
              "      <td>46.226</td>\n",
              "      <td>0.725</td>\n",
              "      <td>1.158</td>\n",
              "      <td>-999.000</td>\n",
              "      <td>-999.00</td>\n",
              "      <td>-999.000</td>\n",
              "      <td>46.226</td>\n",
              "    </tr>\n",
              "    <tr>\n",
              "      <th>2</th>\n",
              "      <td>100002</td>\n",
              "      <td>-999.000</td>\n",
              "      <td>162.172</td>\n",
              "      <td>125.953</td>\n",
              "      <td>35.635</td>\n",
              "      <td>-999.00</td>\n",
              "      <td>-999.000</td>\n",
              "      <td>-999.000</td>\n",
              "      <td>3.148</td>\n",
              "      <td>9.336</td>\n",
              "      <td>197.814</td>\n",
              "      <td>3.776</td>\n",
              "      <td>1.414</td>\n",
              "      <td>-999.0</td>\n",
              "      <td>32.154</td>\n",
              "      <td>-0.705</td>\n",
              "      <td>-2.093</td>\n",
              "      <td>121.409</td>\n",
              "      <td>-0.953</td>\n",
              "      <td>1.052</td>\n",
              "      <td>54.283</td>\n",
              "      <td>-2.186</td>\n",
              "      <td>260.414</td>\n",
              "      <td>1</td>\n",
              "      <td>44.251</td>\n",
              "      <td>2.053</td>\n",
              "      <td>-2.028</td>\n",
              "      <td>-999.000</td>\n",
              "      <td>-999.00</td>\n",
              "      <td>-999.000</td>\n",
              "      <td>44.251</td>\n",
              "    </tr>\n",
              "    <tr>\n",
              "      <th>3</th>\n",
              "      <td>100003</td>\n",
              "      <td>143.905</td>\n",
              "      <td>81.417</td>\n",
              "      <td>80.943</td>\n",
              "      <td>0.414</td>\n",
              "      <td>-999.00</td>\n",
              "      <td>-999.000</td>\n",
              "      <td>-999.000</td>\n",
              "      <td>3.310</td>\n",
              "      <td>0.414</td>\n",
              "      <td>75.968</td>\n",
              "      <td>2.354</td>\n",
              "      <td>-1.285</td>\n",
              "      <td>-999.0</td>\n",
              "      <td>22.647</td>\n",
              "      <td>-1.655</td>\n",
              "      <td>0.010</td>\n",
              "      <td>53.321</td>\n",
              "      <td>-0.522</td>\n",
              "      <td>-3.100</td>\n",
              "      <td>31.082</td>\n",
              "      <td>0.060</td>\n",
              "      <td>86.062</td>\n",
              "      <td>0</td>\n",
              "      <td>-999.000</td>\n",
              "      <td>-999.000</td>\n",
              "      <td>-999.000</td>\n",
              "      <td>-999.000</td>\n",
              "      <td>-999.00</td>\n",
              "      <td>-999.000</td>\n",
              "      <td>-0.000</td>\n",
              "    </tr>\n",
              "    <tr>\n",
              "      <th>4</th>\n",
              "      <td>100004</td>\n",
              "      <td>175.864</td>\n",
              "      <td>16.915</td>\n",
              "      <td>134.805</td>\n",
              "      <td>16.405</td>\n",
              "      <td>-999.00</td>\n",
              "      <td>-999.000</td>\n",
              "      <td>-999.000</td>\n",
              "      <td>3.891</td>\n",
              "      <td>16.405</td>\n",
              "      <td>57.983</td>\n",
              "      <td>1.056</td>\n",
              "      <td>-1.385</td>\n",
              "      <td>-999.0</td>\n",
              "      <td>28.209</td>\n",
              "      <td>-2.197</td>\n",
              "      <td>-2.231</td>\n",
              "      <td>29.774</td>\n",
              "      <td>0.798</td>\n",
              "      <td>1.569</td>\n",
              "      <td>2.723</td>\n",
              "      <td>-0.871</td>\n",
              "      <td>53.131</td>\n",
              "      <td>0</td>\n",
              "      <td>-999.000</td>\n",
              "      <td>-999.000</td>\n",
              "      <td>-999.000</td>\n",
              "      <td>-999.000</td>\n",
              "      <td>-999.00</td>\n",
              "      <td>-999.000</td>\n",
              "      <td>0.000</td>\n",
              "    </tr>\n",
              "  </tbody>\n",
              "</table>\n",
              "</div>"
            ],
            "text/plain": [
              "   EventId  DER_mass_MMC  ...  PRI_jet_subleading_phi  PRI_jet_all_pt\n",
              "0   100000       138.470  ...                  -2.475         113.497\n",
              "1   100001       160.937  ...                -999.000          46.226\n",
              "2   100002      -999.000  ...                -999.000          44.251\n",
              "3   100003       143.905  ...                -999.000          -0.000\n",
              "4   100004       175.864  ...                -999.000           0.000\n",
              "\n",
              "[5 rows x 31 columns]"
            ]
          },
          "metadata": {
            "tags": []
          },
          "execution_count": 29
        }
      ]
    },
    {
      "cell_type": "code",
      "metadata": {
        "id": "BKCIIKPfJuqR",
        "colab_type": "code",
        "colab": {
          "base_uri": "https://localhost:8080/",
          "height": 320
        },
        "outputId": "a81aa924-0b50-40a2-8907-7957fbabe55c"
      },
      "source": [
        "higgsdata.describe()"
      ],
      "execution_count": 30,
      "outputs": [
        {
          "output_type": "execute_result",
          "data": {
            "text/html": [
              "<div>\n",
              "<style scoped>\n",
              "    .dataframe tbody tr th:only-of-type {\n",
              "        vertical-align: middle;\n",
              "    }\n",
              "\n",
              "    .dataframe tbody tr th {\n",
              "        vertical-align: top;\n",
              "    }\n",
              "\n",
              "    .dataframe thead th {\n",
              "        text-align: right;\n",
              "    }\n",
              "</style>\n",
              "<table border=\"1\" class=\"dataframe\">\n",
              "  <thead>\n",
              "    <tr style=\"text-align: right;\">\n",
              "      <th></th>\n",
              "      <th>EventId</th>\n",
              "      <th>DER_mass_MMC</th>\n",
              "      <th>DER_mass_transverse_met_lep</th>\n",
              "      <th>DER_mass_vis</th>\n",
              "      <th>DER_pt_h</th>\n",
              "      <th>DER_deltaeta_jet_jet</th>\n",
              "      <th>DER_mass_jet_jet</th>\n",
              "      <th>DER_prodeta_jet_jet</th>\n",
              "      <th>DER_deltar_tau_lep</th>\n",
              "      <th>DER_pt_tot</th>\n",
              "      <th>DER_sum_pt</th>\n",
              "      <th>DER_pt_ratio_lep_tau</th>\n",
              "      <th>DER_met_phi_centrality</th>\n",
              "      <th>DER_lep_eta_centrality</th>\n",
              "      <th>PRI_tau_pt</th>\n",
              "      <th>PRI_tau_eta</th>\n",
              "      <th>PRI_tau_phi</th>\n",
              "      <th>PRI_lep_pt</th>\n",
              "      <th>PRI_lep_eta</th>\n",
              "      <th>PRI_lep_phi</th>\n",
              "      <th>PRI_met</th>\n",
              "      <th>PRI_met_phi</th>\n",
              "      <th>PRI_met_sumet</th>\n",
              "      <th>PRI_jet_num</th>\n",
              "      <th>PRI_jet_leading_pt</th>\n",
              "      <th>PRI_jet_leading_eta</th>\n",
              "      <th>PRI_jet_leading_phi</th>\n",
              "      <th>PRI_jet_subleading_pt</th>\n",
              "      <th>PRI_jet_subleading_eta</th>\n",
              "      <th>PRI_jet_subleading_phi</th>\n",
              "      <th>PRI_jet_all_pt</th>\n",
              "    </tr>\n",
              "  </thead>\n",
              "  <tbody>\n",
              "    <tr>\n",
              "      <th>count</th>\n",
              "      <td>250000.000000</td>\n",
              "      <td>250000.000000</td>\n",
              "      <td>250000.000000</td>\n",
              "      <td>250000.000000</td>\n",
              "      <td>250000.000000</td>\n",
              "      <td>250000.000000</td>\n",
              "      <td>250000.000000</td>\n",
              "      <td>250000.000000</td>\n",
              "      <td>250000.000000</td>\n",
              "      <td>250000.000000</td>\n",
              "      <td>250000.000000</td>\n",
              "      <td>250000.000000</td>\n",
              "      <td>250000.000000</td>\n",
              "      <td>250000.000000</td>\n",
              "      <td>250000.000000</td>\n",
              "      <td>250000.000000</td>\n",
              "      <td>250000.000000</td>\n",
              "      <td>250000.000000</td>\n",
              "      <td>250000.000000</td>\n",
              "      <td>250000.000000</td>\n",
              "      <td>250000.000000</td>\n",
              "      <td>250000.000000</td>\n",
              "      <td>250000.000000</td>\n",
              "      <td>250000.000000</td>\n",
              "      <td>250000.000000</td>\n",
              "      <td>250000.000000</td>\n",
              "      <td>250000.000000</td>\n",
              "      <td>250000.000000</td>\n",
              "      <td>250000.000000</td>\n",
              "      <td>250000.000000</td>\n",
              "      <td>250000.000000</td>\n",
              "    </tr>\n",
              "    <tr>\n",
              "      <th>mean</th>\n",
              "      <td>224999.500000</td>\n",
              "      <td>-49.023079</td>\n",
              "      <td>49.239819</td>\n",
              "      <td>81.181982</td>\n",
              "      <td>57.895962</td>\n",
              "      <td>-708.420675</td>\n",
              "      <td>-601.237051</td>\n",
              "      <td>-709.356603</td>\n",
              "      <td>2.373100</td>\n",
              "      <td>18.917332</td>\n",
              "      <td>158.432217</td>\n",
              "      <td>1.437609</td>\n",
              "      <td>-0.128305</td>\n",
              "      <td>-708.985189</td>\n",
              "      <td>38.707419</td>\n",
              "      <td>-0.010973</td>\n",
              "      <td>-0.008171</td>\n",
              "      <td>46.660207</td>\n",
              "      <td>-0.019507</td>\n",
              "      <td>0.043543</td>\n",
              "      <td>41.717235</td>\n",
              "      <td>-0.010119</td>\n",
              "      <td>209.797178</td>\n",
              "      <td>0.979176</td>\n",
              "      <td>-348.329567</td>\n",
              "      <td>-399.254314</td>\n",
              "      <td>-399.259788</td>\n",
              "      <td>-692.381204</td>\n",
              "      <td>-709.121609</td>\n",
              "      <td>-709.118631</td>\n",
              "      <td>73.064591</td>\n",
              "    </tr>\n",
              "    <tr>\n",
              "      <th>std</th>\n",
              "      <td>72168.927986</td>\n",
              "      <td>406.345647</td>\n",
              "      <td>35.344886</td>\n",
              "      <td>40.828691</td>\n",
              "      <td>63.655682</td>\n",
              "      <td>454.480565</td>\n",
              "      <td>657.972302</td>\n",
              "      <td>453.019877</td>\n",
              "      <td>0.782911</td>\n",
              "      <td>22.273494</td>\n",
              "      <td>115.706115</td>\n",
              "      <td>0.844743</td>\n",
              "      <td>1.193585</td>\n",
              "      <td>453.596721</td>\n",
              "      <td>22.412081</td>\n",
              "      <td>1.214079</td>\n",
              "      <td>1.816763</td>\n",
              "      <td>22.064922</td>\n",
              "      <td>1.264982</td>\n",
              "      <td>1.816611</td>\n",
              "      <td>32.894693</td>\n",
              "      <td>1.812223</td>\n",
              "      <td>126.499506</td>\n",
              "      <td>0.977426</td>\n",
              "      <td>532.962789</td>\n",
              "      <td>489.338286</td>\n",
              "      <td>489.333883</td>\n",
              "      <td>479.875496</td>\n",
              "      <td>453.384624</td>\n",
              "      <td>453.389017</td>\n",
              "      <td>98.015662</td>\n",
              "    </tr>\n",
              "    <tr>\n",
              "      <th>min</th>\n",
              "      <td>100000.000000</td>\n",
              "      <td>-999.000000</td>\n",
              "      <td>0.000000</td>\n",
              "      <td>6.329000</td>\n",
              "      <td>0.000000</td>\n",
              "      <td>-999.000000</td>\n",
              "      <td>-999.000000</td>\n",
              "      <td>-999.000000</td>\n",
              "      <td>0.208000</td>\n",
              "      <td>0.000000</td>\n",
              "      <td>46.104000</td>\n",
              "      <td>0.047000</td>\n",
              "      <td>-1.414000</td>\n",
              "      <td>-999.000000</td>\n",
              "      <td>20.000000</td>\n",
              "      <td>-2.499000</td>\n",
              "      <td>-3.142000</td>\n",
              "      <td>26.000000</td>\n",
              "      <td>-2.505000</td>\n",
              "      <td>-3.142000</td>\n",
              "      <td>0.109000</td>\n",
              "      <td>-3.142000</td>\n",
              "      <td>13.678000</td>\n",
              "      <td>0.000000</td>\n",
              "      <td>-999.000000</td>\n",
              "      <td>-999.000000</td>\n",
              "      <td>-999.000000</td>\n",
              "      <td>-999.000000</td>\n",
              "      <td>-999.000000</td>\n",
              "      <td>-999.000000</td>\n",
              "      <td>0.000000</td>\n",
              "    </tr>\n",
              "    <tr>\n",
              "      <th>25%</th>\n",
              "      <td>162499.750000</td>\n",
              "      <td>78.100750</td>\n",
              "      <td>19.241000</td>\n",
              "      <td>59.388750</td>\n",
              "      <td>14.068750</td>\n",
              "      <td>-999.000000</td>\n",
              "      <td>-999.000000</td>\n",
              "      <td>-999.000000</td>\n",
              "      <td>1.810000</td>\n",
              "      <td>2.841000</td>\n",
              "      <td>77.550000</td>\n",
              "      <td>0.883000</td>\n",
              "      <td>-1.371000</td>\n",
              "      <td>-999.000000</td>\n",
              "      <td>24.591750</td>\n",
              "      <td>-0.925000</td>\n",
              "      <td>-1.575000</td>\n",
              "      <td>32.375000</td>\n",
              "      <td>-1.014000</td>\n",
              "      <td>-1.522000</td>\n",
              "      <td>21.398000</td>\n",
              "      <td>-1.575000</td>\n",
              "      <td>123.017500</td>\n",
              "      <td>0.000000</td>\n",
              "      <td>-999.000000</td>\n",
              "      <td>-999.000000</td>\n",
              "      <td>-999.000000</td>\n",
              "      <td>-999.000000</td>\n",
              "      <td>-999.000000</td>\n",
              "      <td>-999.000000</td>\n",
              "      <td>0.000000</td>\n",
              "    </tr>\n",
              "    <tr>\n",
              "      <th>50%</th>\n",
              "      <td>224999.500000</td>\n",
              "      <td>105.012000</td>\n",
              "      <td>46.524000</td>\n",
              "      <td>73.752000</td>\n",
              "      <td>38.467500</td>\n",
              "      <td>-999.000000</td>\n",
              "      <td>-999.000000</td>\n",
              "      <td>-999.000000</td>\n",
              "      <td>2.491500</td>\n",
              "      <td>12.315500</td>\n",
              "      <td>120.664500</td>\n",
              "      <td>1.280000</td>\n",
              "      <td>-0.356000</td>\n",
              "      <td>-999.000000</td>\n",
              "      <td>31.804000</td>\n",
              "      <td>-0.023000</td>\n",
              "      <td>-0.033000</td>\n",
              "      <td>40.516000</td>\n",
              "      <td>-0.045000</td>\n",
              "      <td>0.086000</td>\n",
              "      <td>34.802000</td>\n",
              "      <td>-0.024000</td>\n",
              "      <td>179.739000</td>\n",
              "      <td>1.000000</td>\n",
              "      <td>38.960000</td>\n",
              "      <td>-1.872000</td>\n",
              "      <td>-2.093000</td>\n",
              "      <td>-999.000000</td>\n",
              "      <td>-999.000000</td>\n",
              "      <td>-999.000000</td>\n",
              "      <td>40.512500</td>\n",
              "    </tr>\n",
              "    <tr>\n",
              "      <th>75%</th>\n",
              "      <td>287499.250000</td>\n",
              "      <td>130.606250</td>\n",
              "      <td>73.598000</td>\n",
              "      <td>92.259000</td>\n",
              "      <td>79.169000</td>\n",
              "      <td>0.490000</td>\n",
              "      <td>83.446000</td>\n",
              "      <td>-4.593000</td>\n",
              "      <td>2.961000</td>\n",
              "      <td>27.591000</td>\n",
              "      <td>200.478250</td>\n",
              "      <td>1.777000</td>\n",
              "      <td>1.225000</td>\n",
              "      <td>0.000000</td>\n",
              "      <td>45.017000</td>\n",
              "      <td>0.898000</td>\n",
              "      <td>1.565000</td>\n",
              "      <td>53.390000</td>\n",
              "      <td>0.959000</td>\n",
              "      <td>1.618000</td>\n",
              "      <td>51.895000</td>\n",
              "      <td>1.561000</td>\n",
              "      <td>263.379250</td>\n",
              "      <td>2.000000</td>\n",
              "      <td>75.349000</td>\n",
              "      <td>0.433000</td>\n",
              "      <td>0.503000</td>\n",
              "      <td>33.703000</td>\n",
              "      <td>-2.457000</td>\n",
              "      <td>-2.275000</td>\n",
              "      <td>109.933750</td>\n",
              "    </tr>\n",
              "    <tr>\n",
              "      <th>max</th>\n",
              "      <td>349999.000000</td>\n",
              "      <td>1192.026000</td>\n",
              "      <td>690.075000</td>\n",
              "      <td>1349.351000</td>\n",
              "      <td>2834.999000</td>\n",
              "      <td>8.503000</td>\n",
              "      <td>4974.979000</td>\n",
              "      <td>16.690000</td>\n",
              "      <td>5.684000</td>\n",
              "      <td>2834.999000</td>\n",
              "      <td>1852.462000</td>\n",
              "      <td>19.773000</td>\n",
              "      <td>1.414000</td>\n",
              "      <td>1.000000</td>\n",
              "      <td>764.408000</td>\n",
              "      <td>2.497000</td>\n",
              "      <td>3.142000</td>\n",
              "      <td>560.271000</td>\n",
              "      <td>2.503000</td>\n",
              "      <td>3.142000</td>\n",
              "      <td>2842.617000</td>\n",
              "      <td>3.142000</td>\n",
              "      <td>2003.976000</td>\n",
              "      <td>3.000000</td>\n",
              "      <td>1120.573000</td>\n",
              "      <td>4.499000</td>\n",
              "      <td>3.141000</td>\n",
              "      <td>721.456000</td>\n",
              "      <td>4.500000</td>\n",
              "      <td>3.142000</td>\n",
              "      <td>1633.433000</td>\n",
              "    </tr>\n",
              "  </tbody>\n",
              "</table>\n",
              "</div>"
            ],
            "text/plain": [
              "             EventId   DER_mass_MMC  ...  PRI_jet_subleading_phi  PRI_jet_all_pt\n",
              "count  250000.000000  250000.000000  ...           250000.000000   250000.000000\n",
              "mean   224999.500000     -49.023079  ...             -709.118631       73.064591\n",
              "std     72168.927986     406.345647  ...              453.389017       98.015662\n",
              "min    100000.000000    -999.000000  ...             -999.000000        0.000000\n",
              "25%    162499.750000      78.100750  ...             -999.000000        0.000000\n",
              "50%    224999.500000     105.012000  ...             -999.000000       40.512500\n",
              "75%    287499.250000     130.606250  ...               -2.275000      109.933750\n",
              "max    349999.000000    1192.026000  ...                3.142000     1633.433000\n",
              "\n",
              "[8 rows x 31 columns]"
            ]
          },
          "metadata": {
            "tags": []
          },
          "execution_count": 30
        }
      ]
    },
    {
      "cell_type": "code",
      "metadata": {
        "id": "Miv1Clz4J7Hz",
        "colab_type": "code",
        "colab": {
          "base_uri": "https://localhost:8080/",
          "height": 35
        },
        "outputId": "3a367a1f-d417-4ff6-8c6d-bd025d65ca71"
      },
      "source": [
        "labels"
      ],
      "execution_count": 31,
      "outputs": [
        {
          "output_type": "execute_result",
          "data": {
            "text/plain": [
              "array(['s', 'b', 'b', ..., 's', 'b', 'b'], dtype=object)"
            ]
          },
          "metadata": {
            "tags": []
          },
          "execution_count": 31
        }
      ]
    },
    {
      "cell_type": "code",
      "metadata": {
        "id": "GS15vWUbJ74w",
        "colab_type": "code",
        "colab": {
          "base_uri": "https://localhost:8080/",
          "height": 54
        },
        "outputId": "56faa9dc-2be4-463c-9caf-72b19627c061"
      },
      "source": [
        "weights"
      ],
      "execution_count": 32,
      "outputs": [
        {
          "output_type": "execute_result",
          "data": {
            "text/plain": [
              "array([0.00265331, 2.23358449, 2.34738894, ..., 0.01863612, 1.68161144,\n",
              "       1.87747381])"
            ]
          },
          "metadata": {
            "tags": []
          },
          "execution_count": 32
        }
      ]
    },
    {
      "cell_type": "code",
      "metadata": {
        "id": "8NvM-H1-KAn8",
        "colab_type": "code",
        "colab": {}
      },
      "source": [
        "labels_train, labels_test, weights_train, weights_test, higgsdata_train,\\\n",
        "    higgsdata_test = sk.model_selection.train_test_split(labels, weights,\n",
        "        higgsdata, test_size = 0.25, train_size = 0.75, random_state = 100016)"
      ],
      "execution_count": 0,
      "outputs": []
    },
    {
      "cell_type": "code",
      "metadata": {
        "id": "EWAVN1OtKHeH",
        "colab_type": "code",
        "colab": {
          "base_uri": "https://localhost:8080/",
          "height": 35
        },
        "outputId": "c0cfc622-9f83-402c-97d4-07d6e08fd7bd"
      },
      "source": [
        "labels_train"
      ],
      "execution_count": 34,
      "outputs": [
        {
          "output_type": "execute_result",
          "data": {
            "text/plain": [
              "array(['b', 'b', 's', ..., 's', 'b', 'b'], dtype=object)"
            ]
          },
          "metadata": {
            "tags": []
          },
          "execution_count": 34
        }
      ]
    },
    {
      "cell_type": "code",
      "metadata": {
        "id": "LbEJF5WEKLX7",
        "colab_type": "code",
        "colab": {
          "base_uri": "https://localhost:8080/",
          "height": 35
        },
        "outputId": "b075e621-41cf-4827-e085-540eca91fcec"
      },
      "source": [
        "labels_test"
      ],
      "execution_count": 35,
      "outputs": [
        {
          "output_type": "execute_result",
          "data": {
            "text/plain": [
              "array(['b', 'b', 'b', ..., 'b', 's', 'b'], dtype=object)"
            ]
          },
          "metadata": {
            "tags": []
          },
          "execution_count": 35
        }
      ]
    },
    {
      "cell_type": "code",
      "metadata": {
        "id": "9ZoVA5LOKMUN",
        "colab_type": "code",
        "colab": {
          "base_uri": "https://localhost:8080/",
          "height": 92
        },
        "outputId": "379a3b41-f17e-4d50-e08b-c4e7a9e7e6e1"
      },
      "source": [
        "from sklearn.ensemble import RandomForestClassifier\n",
        "from sklearn.ensemble import GradientBoostingClassifier\n",
        "from sklearn.datasets import make_classification\n",
        "\n",
        "# Look at parameters used by our current forest\n",
        "rf = RandomForestClassifier(random_state = 94755)\n",
        "print('Parameters currently in use:\\n')\n",
        "print(rf.get_params())"
      ],
      "execution_count": 36,
      "outputs": [
        {
          "output_type": "stream",
          "text": [
            "Parameters currently in use:\n",
            "\n",
            "{'bootstrap': True, 'class_weight': None, 'criterion': 'gini', 'max_depth': None, 'max_features': 'auto', 'max_leaf_nodes': None, 'min_impurity_decrease': 0.0, 'min_impurity_split': None, 'min_samples_leaf': 1, 'min_samples_split': 2, 'min_weight_fraction_leaf': 0.0, 'n_estimators': 'warn', 'n_jobs': None, 'oob_score': False, 'random_state': 94755, 'verbose': 0, 'warm_start': False}\n"
          ],
          "name": "stdout"
        }
      ]
    },
    {
      "cell_type": "code",
      "metadata": {
        "id": "kMxbJ6QhNWPL",
        "colab_type": "code",
        "colab": {
          "base_uri": "https://localhost:8080/",
          "height": 92
        },
        "outputId": "77fb809c-dc19-432d-acf6-5bb50ebabb3d"
      },
      "source": [
        "gbt = GradientBoostingClassifier(random_state = 95413)\n",
        "print('Parameters currently in use:\\n')\n",
        "print(gbt.get_params())"
      ],
      "execution_count": 37,
      "outputs": [
        {
          "output_type": "stream",
          "text": [
            "Parameters currently in use:\n",
            "\n",
            "{'criterion': 'friedman_mse', 'init': None, 'learning_rate': 0.1, 'loss': 'deviance', 'max_depth': 3, 'max_features': None, 'max_leaf_nodes': None, 'min_impurity_decrease': 0.0, 'min_impurity_split': None, 'min_samples_leaf': 1, 'min_samples_split': 2, 'min_weight_fraction_leaf': 0.0, 'n_estimators': 100, 'n_iter_no_change': None, 'presort': 'auto', 'random_state': 95413, 'subsample': 1.0, 'tol': 0.0001, 'validation_fraction': 0.1, 'verbose': 0, 'warm_start': False}\n"
          ],
          "name": "stdout"
        }
      ]
    },
    {
      "cell_type": "code",
      "metadata": {
        "id": "0jrQ9BZjKt4c",
        "colab_type": "code",
        "colab": {
          "base_uri": "https://localhost:8080/",
          "height": 202
        },
        "outputId": "2414c830-686c-43c4-c63f-252fa75a65e9"
      },
      "source": [
        "rf.fit(higgsdata_train.values, labels_train, sample_weight = None)"
      ],
      "execution_count": 38,
      "outputs": [
        {
          "output_type": "stream",
          "text": [
            "/usr/local/lib/python3.6/dist-packages/sklearn/ensemble/forest.py:245: FutureWarning: The default value of n_estimators will change from 10 in version 0.20 to 100 in 0.22.\n",
            "  \"10 in version 0.20 to 100 in 0.22.\", FutureWarning)\n"
          ],
          "name": "stderr"
        },
        {
          "output_type": "execute_result",
          "data": {
            "text/plain": [
              "RandomForestClassifier(bootstrap=True, class_weight=None, criterion='gini',\n",
              "                       max_depth=None, max_features='auto', max_leaf_nodes=None,\n",
              "                       min_impurity_decrease=0.0, min_impurity_split=None,\n",
              "                       min_samples_leaf=1, min_samples_split=2,\n",
              "                       min_weight_fraction_leaf=0.0, n_estimators=10,\n",
              "                       n_jobs=None, oob_score=False, random_state=94755,\n",
              "                       verbose=0, warm_start=False)"
            ]
          },
          "metadata": {
            "tags": []
          },
          "execution_count": 38
        }
      ]
    },
    {
      "cell_type": "code",
      "metadata": {
        "id": "_m-nv3P0K10V",
        "colab_type": "code",
        "outputId": "f83ba71d-a638-4e8d-c8e6-099ac120945e",
        "colab": {
          "base_uri": "https://localhost:8080/",
          "height": 201
        }
      },
      "source": [
        "gbt.fit(higgsdata_train.values, labels_train)"
      ],
      "execution_count": 39,
      "outputs": [
        {
          "output_type": "execute_result",
          "data": {
            "text/plain": [
              "GradientBoostingClassifier(criterion='friedman_mse', init=None,\n",
              "                           learning_rate=0.1, loss='deviance', max_depth=3,\n",
              "                           max_features=None, max_leaf_nodes=None,\n",
              "                           min_impurity_decrease=0.0, min_impurity_split=None,\n",
              "                           min_samples_leaf=1, min_samples_split=2,\n",
              "                           min_weight_fraction_leaf=0.0, n_estimators=100,\n",
              "                           n_iter_no_change=None, presort='auto',\n",
              "                           random_state=95413, subsample=1.0, tol=0.0001,\n",
              "                           validation_fraction=0.1, verbose=0,\n",
              "                           warm_start=False)"
            ]
          },
          "metadata": {
            "tags": []
          },
          "execution_count": 39
        }
      ]
    },
    {
      "cell_type": "code",
      "metadata": {
        "id": "7x7EhTT7PW6o",
        "colab_type": "code",
        "outputId": "7df8149d-b69a-4aff-e611-dc52cc1c3493",
        "colab": {
          "base_uri": "https://localhost:8080/",
          "height": 109
        }
      },
      "source": [
        "print(\"RF Training Score\")\n",
        "print(rf.score(higgsdata_train.values, labels_train))\n",
        "print(\"\\nRF Test Score\")\n",
        "print(rf.score(higgsdata_test.values, labels_test))"
      ],
      "execution_count": 40,
      "outputs": [
        {
          "output_type": "stream",
          "text": [
            "RF Training Score\n",
            "0.988192\n",
            "\n",
            "RF Test Score\n",
            "0.82176\n"
          ],
          "name": "stdout"
        }
      ]
    },
    {
      "cell_type": "code",
      "metadata": {
        "id": "D9nMXvIQXGkM",
        "colab_type": "code",
        "outputId": "8d0ca052-13bd-42a8-faa7-2787abeb950c",
        "colab": {
          "base_uri": "https://localhost:8080/",
          "height": 109
        }
      },
      "source": [
        "print(\"GBT Training Score\")\n",
        "print(gbt.score(higgsdata_train.values, labels_train))\n",
        "print(\"\\nGBT Test Score\")\n",
        "print(gbt.score(higgsdata_test.values, labels_test))"
      ],
      "execution_count": 41,
      "outputs": [
        {
          "output_type": "stream",
          "text": [
            "GBT Training Score\n",
            "0.833792\n",
            "\n",
            "GBT Test Score\n",
            "0.831488\n"
          ],
          "name": "stdout"
        }
      ]
    },
    {
      "cell_type": "code",
      "metadata": {
        "id": "5DXU9h61XKcT",
        "colab_type": "code",
        "colab": {}
      },
      "source": [
        "from mpl_toolkits.axes_grid1.axes_divider import make_axes_locatable\n",
        "from sklearn.metrics import confusion_matrix\n",
        "def plot_confusion_matrix(y_true, y_pred,\n",
        "                          normalize=False,\n",
        "                          title='',\n",
        "                          cmap=pl.cm.bone):\n",
        "    \"\"\"\n",
        "    This function prints and plots the confusion matrix.\n",
        "    Normalization can be applied by setting `normalize=True`.\n",
        "    \"\"\"         \n",
        "    if normalize:\n",
        "          title = title + ' Normalized confusion matrix'\n",
        "    else:\n",
        "          title = title + ' Confusion matrix, without normalization'\n",
        "\n",
        "    # Compute confusion matrix\n",
        "    cm = confusion_matrix(y_true, y_pred)\n",
        "    # plot it\n",
        "    fig, ax = plt.subplots(1, 1)\n",
        "    fig.subplots_adjust()\n",
        "    im = ax.imshow(cm, cmap=cmap)\n",
        "    ax_divider = make_axes_locatable(ax)\n",
        "    # add an axes to the right of the main axes.\n",
        "    pl.xticks([0, 1], labels=[\"N\", \"P\"])\n",
        "    pl.ylim(-0.5,1.5)\n",
        "    pl.yticks([0,1], labels=[\"N\", \"P\"])    \n",
        "    pl.title(title)\n",
        "    cax = ax_divider.append_axes(\"right\", size=\"10%\", pad=\"2%\")\n",
        "    cb = colorbar(im, cax=cax)"
      ],
      "execution_count": 0,
      "outputs": []
    },
    {
      "cell_type": "code",
      "metadata": {
        "id": "YaEXqA4yXVIL",
        "colab_type": "code",
        "outputId": "01904bbc-ee1a-4e6d-ddfd-345ace4edaac",
        "colab": {
          "base_uri": "https://localhost:8080/",
          "height": 281
        }
      },
      "source": [
        "plot_confusion_matrix(rf.predict(higgsdata_train.values), labels_train,\n",
        "                      title = 'Random Forest')"
      ],
      "execution_count": 43,
      "outputs": [
        {
          "output_type": "display_data",
          "data": {
            "image/png": "[encoded data removed]",
            "text/plain": [
              "<Figure size 432x288 with 2 Axes>"
            ]
          },
          "metadata": {
            "tags": []
          }
        }
      ]
    },
    {
      "cell_type": "markdown",
      "metadata": {
        "id": "iQp84lO31W7n",
        "colab_type": "text"
      },
      "source": [
        "**Figure 1**: the confusion matrix for the Random Forest algorithm"
      ]
    },
    {
      "cell_type": "code",
      "metadata": {
        "id": "FqrC9Jh7XhrM",
        "colab_type": "code",
        "outputId": "7516f84a-c7f6-4e41-dce4-fe4c6677a6b3",
        "colab": {
          "base_uri": "https://localhost:8080/",
          "height": 281
        }
      },
      "source": [
        "plot_confusion_matrix(gbt.predict(higgsdata_train.values), labels_train,\n",
        "                      title = 'Gradient Boosted Trees')"
      ],
      "execution_count": 44,
      "outputs": [
        {
          "output_type": "display_data",
          "data": {
            "image/png": "[encoded data removed]",
            "text/plain": [
              "<Figure size 432x288 with 2 Axes>"
            ]
          },
          "metadata": {
            "tags": []
          }
        }
      ]
    },
    {
      "cell_type": "markdown",
      "metadata": {
        "id": "lAnuM-po1b6h",
        "colab_type": "text"
      },
      "source": [
        "**Figure 2**: The confusion matrix for the Gradient Boosted algorithm"
      ]
    },
    {
      "cell_type": "markdown",
      "metadata": {
        "id": "Odzk-RodYdVu",
        "colab_type": "text"
      },
      "source": [
        "## Weight Prediction"
      ]
    },
    {
      "cell_type": "code",
      "metadata": {
        "id": "S0YXddV0YAZi",
        "colab_type": "code",
        "colab": {}
      },
      "source": [
        "from sklearn.ensemble import RandomForestRegressor\n",
        "from sklearn.ensemble import GradientBoostingRegressor"
      ],
      "execution_count": 0,
      "outputs": []
    },
    {
      "cell_type": "code",
      "metadata": {
        "id": "5gfoyjH3Yc4k",
        "colab_type": "code",
        "outputId": "8e4ecd8a-e78a-48b2-cb28-e0d4abbceb48",
        "colab": {
          "base_uri": "https://localhost:8080/",
          "height": 146
        }
      },
      "source": [
        "rfR = RandomForestRegressor(n_estimators = 100, max_depth = 3,\n",
        "                            random_state = 100228)\n",
        "rfR.fit(higgsdata_train.values, weights_train)"
      ],
      "execution_count": 46,
      "outputs": [
        {
          "output_type": "execute_result",
          "data": {
            "text/plain": [
              "RandomForestRegressor(bootstrap=True, criterion='mse', max_depth=3,\n",
              "                      max_features='auto', max_leaf_nodes=None,\n",
              "                      min_impurity_decrease=0.0, min_impurity_split=None,\n",
              "                      min_samples_leaf=1, min_samples_split=2,\n",
              "                      min_weight_fraction_leaf=0.0, n_estimators=100,\n",
              "                      n_jobs=None, oob_score=False, random_state=100228,\n",
              "                      verbose=0, warm_start=False)"
            ]
          },
          "metadata": {
            "tags": []
          },
          "execution_count": 46
        }
      ]
    },
    {
      "cell_type": "code",
      "metadata": {
        "id": "Fip1wGJwY9fX",
        "colab_type": "code",
        "outputId": "991b5306-bbb7-40e1-bf8c-3690d06f967b",
        "colab": {
          "base_uri": "https://localhost:8080/",
          "height": 182
        }
      },
      "source": [
        "gbtR = GradientBoostingRegressor(n_estimators = 100, max_depth = 3,\n",
        "                                 random_state = 100513)\n",
        "gbtR.fit(higgsdata_train.values, weights_train)"
      ],
      "execution_count": 47,
      "outputs": [
        {
          "output_type": "execute_result",
          "data": {
            "text/plain": [
              "GradientBoostingRegressor(alpha=0.9, criterion='friedman_mse', init=None,\n",
              "                          learning_rate=0.1, loss='ls', max_depth=3,\n",
              "                          max_features=None, max_leaf_nodes=None,\n",
              "                          min_impurity_decrease=0.0, min_impurity_split=None,\n",
              "                          min_samples_leaf=1, min_samples_split=2,\n",
              "                          min_weight_fraction_leaf=0.0, n_estimators=100,\n",
              "                          n_iter_no_change=None, presort='auto',\n",
              "                          random_state=100513, subsample=1.0, tol=0.0001,\n",
              "                          validation_fraction=0.1, verbose=0, warm_start=False)"
            ]
          },
          "metadata": {
            "tags": []
          },
          "execution_count": 47
        }
      ]
    },
    {
      "cell_type": "code",
      "metadata": {
        "id": "7sxuSi_JZh96",
        "colab_type": "code",
        "outputId": "8c53dc1a-cddc-43ed-9de5-c24720a7b58e",
        "colab": {
          "base_uri": "https://localhost:8080/",
          "height": 90
        }
      },
      "source": [
        "print('L1 for Random Forest Regressor: {:.4}'.format(np.sum(\n",
        "    np.abs(weights_train - rfR.predict(higgsdata_train.values)))))\n",
        "print('L1 for Gradient Boosting Regressor: {:.4}'.format(np.sum(\n",
        "    np.abs(weights_train - gbtR.predict(higgsdata_train.values)))))\n",
        "print('L2 for Random Forest Regressor: {:.4}'.format(np.sum(\n",
        "    (weights_train - rfR.predict(higgsdata_train.values))**2)))\n",
        "print('L2 for Gradient Boosting Regressor: {:.4}'.format(np.sum(\n",
        "    (weights_train - gbtR.predict(higgsdata_train.values))**2)))"
      ],
      "execution_count": 48,
      "outputs": [
        {
          "output_type": "stream",
          "text": [
            "L1 for Random Forest Regressor: 1.887e+05\n",
            "L1 for Gradient Boosting Regressor: 1.575e+05\n",
            "L2 for Random Forest Regressor: 3.435e+05\n",
            "L2 for Gradient Boosting Regressor: 2.527e+05\n"
          ],
          "name": "stdout"
        }
      ]
    },
    {
      "cell_type": "code",
      "metadata": {
        "id": "AlWedCh5atpX",
        "colab_type": "code",
        "outputId": "fe5eae0c-b03c-42f9-e428-0de1f7b692ce",
        "colab": {
          "base_uri": "https://localhost:8080/",
          "height": 182
        }
      },
      "source": [
        "important_features = rf.feature_importances_\n",
        "important_columns = np.argsort(important_features)\n",
        "sorted_columns = important_columns[-4:]\n",
        "print(important_features, '\\n', important_columns, '\\n', sorted_columns)"
      ],
      "execution_count": 49,
      "outputs": [
        {
          "output_type": "stream",
          "text": [
            "[0.02314848 0.16028829 0.09449998 0.07815674 0.03352408 0.0207438\n",
            " 0.01376738 0.00891111 0.0458763  0.02969836 0.02654566 0.04715474\n",
            " 0.04260899 0.02438068 0.05049217 0.02469113 0.02267964 0.03099759\n",
            " 0.02547465 0.02245876 0.03860155 0.02282198 0.02483053 0.00564409\n",
            " 0.01534074 0.01950026 0.0140154  0.00527113 0.00560875 0.00615178\n",
            " 0.01611523] \n",
            " [27 28 23 29  7  6 26 24 30 25  5 19 16 21  0 13 15 22 18 10  9 17  4 20\n",
            " 12  8 11 14  3  2  1] \n",
            " [14  3  2  1]\n"
          ],
          "name": "stdout"
        }
      ]
    },
    {
      "cell_type": "code",
      "metadata": {
        "id": "BRPokQTLbde2",
        "colab_type": "code",
        "outputId": "b58ed7b0-7960-4f1e-87ac-3eaa21d33369",
        "colab": {
          "base_uri": "https://localhost:8080/",
          "height": 424
        }
      },
      "source": [
        "higgs_important_feature = higgsdata[higgsdata.columns[sorted_columns]]\n",
        "higgs_important_train = higgsdata_train[higgsdata_train.columns[sorted_columns]]\n",
        "higgs_important_test = higgsdata_test[higgsdata_test.columns[sorted_columns]]\n",
        "higgs_important_feature"
      ],
      "execution_count": 50,
      "outputs": [
        {
          "output_type": "execute_result",
          "data": {
            "text/html": [
              "<div>\n",
              "<style scoped>\n",
              "    .dataframe tbody tr th:only-of-type {\n",
              "        vertical-align: middle;\n",
              "    }\n",
              "\n",
              "    .dataframe tbody tr th {\n",
              "        vertical-align: top;\n",
              "    }\n",
              "\n",
              "    .dataframe thead th {\n",
              "        text-align: right;\n",
              "    }\n",
              "</style>\n",
              "<table border=\"1\" class=\"dataframe\">\n",
              "  <thead>\n",
              "    <tr style=\"text-align: right;\">\n",
              "      <th></th>\n",
              "      <th>PRI_tau_pt</th>\n",
              "      <th>DER_mass_vis</th>\n",
              "      <th>DER_mass_transverse_met_lep</th>\n",
              "      <th>DER_mass_MMC</th>\n",
              "    </tr>\n",
              "  </thead>\n",
              "  <tbody>\n",
              "    <tr>\n",
              "      <th>0</th>\n",
              "      <td>32.638</td>\n",
              "      <td>97.827</td>\n",
              "      <td>51.655</td>\n",
              "      <td>138.470</td>\n",
              "    </tr>\n",
              "    <tr>\n",
              "      <th>1</th>\n",
              "      <td>42.014</td>\n",
              "      <td>103.235</td>\n",
              "      <td>68.768</td>\n",
              "      <td>160.937</td>\n",
              "    </tr>\n",
              "    <tr>\n",
              "      <th>2</th>\n",
              "      <td>32.154</td>\n",
              "      <td>125.953</td>\n",
              "      <td>162.172</td>\n",
              "      <td>-999.000</td>\n",
              "    </tr>\n",
              "    <tr>\n",
              "      <th>3</th>\n",
              "      <td>22.647</td>\n",
              "      <td>80.943</td>\n",
              "      <td>81.417</td>\n",
              "      <td>143.905</td>\n",
              "    </tr>\n",
              "    <tr>\n",
              "      <th>4</th>\n",
              "      <td>28.209</td>\n",
              "      <td>134.805</td>\n",
              "      <td>16.915</td>\n",
              "      <td>175.864</td>\n",
              "    </tr>\n",
              "    <tr>\n",
              "      <th>...</th>\n",
              "      <td>...</td>\n",
              "      <td>...</td>\n",
              "      <td>...</td>\n",
              "      <td>...</td>\n",
              "    </tr>\n",
              "    <tr>\n",
              "      <th>249995</th>\n",
              "      <td>24.754</td>\n",
              "      <td>36.548</td>\n",
              "      <td>71.989</td>\n",
              "      <td>-999.000</td>\n",
              "    </tr>\n",
              "    <tr>\n",
              "      <th>249996</th>\n",
              "      <td>23.416</td>\n",
              "      <td>68.083</td>\n",
              "      <td>58.179</td>\n",
              "      <td>-999.000</td>\n",
              "    </tr>\n",
              "    <tr>\n",
              "      <th>249997</th>\n",
              "      <td>35.636</td>\n",
              "      <td>75.839</td>\n",
              "      <td>60.526</td>\n",
              "      <td>105.457</td>\n",
              "    </tr>\n",
              "    <tr>\n",
              "      <th>249998</th>\n",
              "      <td>27.944</td>\n",
              "      <td>68.812</td>\n",
              "      <td>19.362</td>\n",
              "      <td>94.951</td>\n",
              "    </tr>\n",
              "    <tr>\n",
              "      <th>249999</th>\n",
              "      <td>43.003</td>\n",
              "      <td>70.831</td>\n",
              "      <td>72.756</td>\n",
              "      <td>-999.000</td>\n",
              "    </tr>\n",
              "  </tbody>\n",
              "</table>\n",
              "<p>250000 rows × 4 columns</p>\n",
              "</div>"
            ],
            "text/plain": [
              "        PRI_tau_pt  DER_mass_vis  DER_mass_transverse_met_lep  DER_mass_MMC\n",
              "0           32.638        97.827                       51.655       138.470\n",
              "1           42.014       103.235                       68.768       160.937\n",
              "2           32.154       125.953                      162.172      -999.000\n",
              "3           22.647        80.943                       81.417       143.905\n",
              "4           28.209       134.805                       16.915       175.864\n",
              "...            ...           ...                          ...           ...\n",
              "249995      24.754        36.548                       71.989      -999.000\n",
              "249996      23.416        68.083                       58.179      -999.000\n",
              "249997      35.636        75.839                       60.526       105.457\n",
              "249998      27.944        68.812                       19.362        94.951\n",
              "249999      43.003        70.831                       72.756      -999.000\n",
              "\n",
              "[250000 rows x 4 columns]"
            ]
          },
          "metadata": {
            "tags": []
          },
          "execution_count": 50
        }
      ]
    },
    {
      "cell_type": "code",
      "metadata": {
        "id": "L1vCS0V8crHP",
        "colab_type": "code",
        "colab": {}
      },
      "source": [
        "from sklearn.model_selection import RandomizedSearchCV"
      ],
      "execution_count": 0,
      "outputs": []
    },
    {
      "cell_type": "code",
      "metadata": {
        "id": "tBSARxAfc2sU",
        "colab_type": "code",
        "colab": {}
      },
      "source": [
        "random_grid = {'max_depth': [3, 10, None],\n",
        "              'max_features': ['auto', 'sqrt'],\n",
        "              'n_estimators': [10,100,1000]}"
      ],
      "execution_count": 0,
      "outputs": []
    },
    {
      "cell_type": "code",
      "metadata": {
        "id": "fVIQo1NtdQsJ",
        "colab_type": "code",
        "colab": {}
      },
      "source": [
        "random_search = RandomizedSearchCV(estimator = rf,\n",
        "                                   param_distributions = random_grid, n_iter = 1,\n",
        "                                   cv = 3, iid = False, random_state = 154139)"
      ],
      "execution_count": 0,
      "outputs": []
    },
    {
      "cell_type": "code",
      "metadata": {
        "id": "AGkMsTF1dkyi",
        "colab_type": "code",
        "outputId": "87a07ad6-94e2-4074-a500-745f30d5d8c3",
        "colab": {
          "base_uri": "https://localhost:8080/",
          "height": 458
        }
      },
      "source": [
        "random_search.fit(higgs_important_train, labels_train)"
      ],
      "execution_count": 54,
      "outputs": [
        {
          "output_type": "execute_result",
          "data": {
            "text/plain": [
              "RandomizedSearchCV(cv=3, error_score='raise-deprecating',\n",
              "                   estimator=RandomForestClassifier(bootstrap=True,\n",
              "                                                    class_weight=None,\n",
              "                                                    criterion='gini',\n",
              "                                                    max_depth=None,\n",
              "                                                    max_features='auto',\n",
              "                                                    max_leaf_nodes=None,\n",
              "                                                    min_impurity_decrease=0.0,\n",
              "                                                    min_impurity_split=None,\n",
              "                                                    min_samples_leaf=1,\n",
              "                                                    min_samples_split=2,\n",
              "                                                    min_weight_fraction_leaf=0.0,\n",
              "                                                    n_estimators=10,\n",
              "                                                    n_jobs=None,\n",
              "                                                    oob_score=False,\n",
              "                                                    random_state=94755,\n",
              "                                                    verbose=0,\n",
              "                                                    warm_start=False),\n",
              "                   iid=False, n_iter=1, n_jobs=None,\n",
              "                   param_distributions={'max_depth': [3, 10, None],\n",
              "                                        'max_features': ['auto', 'sqrt'],\n",
              "                                        'n_estimators': [10, 100, 1000]},\n",
              "                   pre_dispatch='2*n_jobs', random_state=154139, refit=True,\n",
              "                   return_train_score=False, scoring=None, verbose=0)"
            ]
          },
          "metadata": {
            "tags": []
          },
          "execution_count": 54
        }
      ]
    },
    {
      "cell_type": "code",
      "metadata": {
        "id": "R2otbWq7mCHq",
        "colab_type": "code",
        "colab": {}
      },
      "source": [
        "search_score = random_search.score(higgs_important_test,labels_test)"
      ],
      "execution_count": 0,
      "outputs": []
    },
    {
      "cell_type": "code",
      "metadata": {
        "id": "EghxcfQhedXa",
        "colab_type": "code",
        "outputId": "4d9589cc-00d1-42be-d793-354f3bc290ab",
        "colab": {
          "base_uri": "https://localhost:8080/",
          "height": 184
        }
      },
      "source": [
        "print(\"Tuned RF  Parameters: {}\".format(random_search.get_params()))\n",
        "print(\"Best score is {}\".format(search_score))"
      ],
      "execution_count": 56,
      "outputs": [
        {
          "output_type": "stream",
          "text": [
            "Tuned RF  Parameters: {'cv': 3, 'error_score': 'raise-deprecating', 'estimator__bootstrap': True, 'estimator__class_weight': None, 'estimator__criterion': 'gini', 'estimator__max_depth': None, 'estimator__max_features': 'auto', 'estimator__max_leaf_nodes': None, 'estimator__min_impurity_decrease': 0.0, 'estimator__min_impurity_split': None, 'estimator__min_samples_leaf': 1, 'estimator__min_samples_split': 2, 'estimator__min_weight_fraction_leaf': 0.0, 'estimator__n_estimators': 10, 'estimator__n_jobs': None, 'estimator__oob_score': False, 'estimator__random_state': 94755, 'estimator__verbose': 0, 'estimator__warm_start': False, 'estimator': RandomForestClassifier(bootstrap=True, class_weight=None, criterion='gini',\n",
            "                       max_depth=None, max_features='auto', max_leaf_nodes=None,\n",
            "                       min_impurity_decrease=0.0, min_impurity_split=None,\n",
            "                       min_samples_leaf=1, min_samples_split=2,\n",
            "                       min_weight_fraction_leaf=0.0, n_estimators=10,\n",
            "                       n_jobs=None, oob_score=False, random_state=94755,\n",
            "                       verbose=0, warm_start=False), 'iid': False, 'n_iter': 1, 'n_jobs': None, 'param_distributions': {'max_depth': [3, 10, None], 'max_features': ['auto', 'sqrt'], 'n_estimators': [10, 100, 1000]}, 'pre_dispatch': '2*n_jobs', 'random_state': 154139, 'refit': True, 'return_train_score': False, 'scoring': None, 'verbose': 0}\n",
            "Best score is 0.791392\n"
          ],
          "name": "stdout"
        }
      ]
    },
    {
      "cell_type": "code",
      "metadata": {
        "id": "MesNekhvl-um",
        "colab_type": "code",
        "outputId": "2faded69-46c7-4b58-b239-ae4b01066c71",
        "colab": {
          "base_uri": "https://localhost:8080/",
          "height": 439
        }
      },
      "source": [
        "random_search.cv_results_"
      ],
      "execution_count": 57,
      "outputs": [
        {
          "output_type": "execute_result",
          "data": {
            "text/plain": [
              "{'mean_fit_time': array([1.05375655]),\n",
              " 'mean_score_time': array([0.16538636]),\n",
              " 'mean_test_score': array([0.79456]),\n",
              " 'param_max_depth': masked_array(data=[3],\n",
              "              mask=[False],\n",
              "        fill_value='?',\n",
              "             dtype=object),\n",
              " 'param_max_features': masked_array(data=['auto'],\n",
              "              mask=[False],\n",
              "        fill_value='?',\n",
              "             dtype=object),\n",
              " 'param_n_estimators': masked_array(data=[10],\n",
              "              mask=[False],\n",
              "        fill_value='?',\n",
              "             dtype=object),\n",
              " 'params': [{'max_depth': 3, 'max_features': 'auto', 'n_estimators': 10}],\n",
              " 'rank_test_score': array([1], dtype=int32),\n",
              " 'split0_test_score': array([0.794096]),\n",
              " 'split1_test_score': array([0.793472]),\n",
              " 'split2_test_score': array([0.796112]),\n",
              " 'std_fit_time': array([0.01798613]),\n",
              " 'std_score_time': array([0.0008693]),\n",
              " 'std_test_score': array([0.00112661])}"
            ]
          },
          "metadata": {
            "tags": []
          },
          "execution_count": 57
        }
      ]
    },
    {
      "cell_type": "code",
      "metadata": {
        "id": "Ccv9EHQAyPpq",
        "colab_type": "code",
        "outputId": "ff85af66-c127-43ef-c8a2-86a3b7a1a796",
        "colab": {
          "base_uri": "https://localhost:8080/",
          "height": 153
        }
      },
      "source": [
        "df = pd.DataFrame(random_search.cv_results_)\n",
        "df"
      ],
      "execution_count": 58,
      "outputs": [
        {
          "output_type": "execute_result",
          "data": {
            "text/html": [
              "<div>\n",
              "<style scoped>\n",
              "    .dataframe tbody tr th:only-of-type {\n",
              "        vertical-align: middle;\n",
              "    }\n",
              "\n",
              "    .dataframe tbody tr th {\n",
              "        vertical-align: top;\n",
              "    }\n",
              "\n",
              "    .dataframe thead th {\n",
              "        text-align: right;\n",
              "    }\n",
              "</style>\n",
              "<table border=\"1\" class=\"dataframe\">\n",
              "  <thead>\n",
              "    <tr style=\"text-align: right;\">\n",
              "      <th></th>\n",
              "      <th>mean_fit_time</th>\n",
              "      <th>std_fit_time</th>\n",
              "      <th>mean_score_time</th>\n",
              "      <th>std_score_time</th>\n",
              "      <th>param_n_estimators</th>\n",
              "      <th>param_max_features</th>\n",
              "      <th>param_max_depth</th>\n",
              "      <th>params</th>\n",
              "      <th>split0_test_score</th>\n",
              "      <th>split1_test_score</th>\n",
              "      <th>split2_test_score</th>\n",
              "      <th>mean_test_score</th>\n",
              "      <th>std_test_score</th>\n",
              "      <th>rank_test_score</th>\n",
              "    </tr>\n",
              "  </thead>\n",
              "  <tbody>\n",
              "    <tr>\n",
              "      <th>0</th>\n",
              "      <td>1.053757</td>\n",
              "      <td>0.017986</td>\n",
              "      <td>0.165386</td>\n",
              "      <td>0.000869</td>\n",
              "      <td>10</td>\n",
              "      <td>auto</td>\n",
              "      <td>3</td>\n",
              "      <td>{'n_estimators': 10, 'max_features': 'auto', '...</td>\n",
              "      <td>0.794096</td>\n",
              "      <td>0.793472</td>\n",
              "      <td>0.796112</td>\n",
              "      <td>0.79456</td>\n",
              "      <td>0.001127</td>\n",
              "      <td>1</td>\n",
              "    </tr>\n",
              "  </tbody>\n",
              "</table>\n",
              "</div>"
            ],
            "text/plain": [
              "   mean_fit_time  std_fit_time  ...  std_test_score  rank_test_score\n",
              "0       1.053757      0.017986  ...        0.001127                1\n",
              "\n",
              "[1 rows x 14 columns]"
            ]
          },
          "metadata": {
            "tags": []
          },
          "execution_count": 58
        }
      ]
    },
    {
      "cell_type": "markdown",
      "metadata": {
        "id": "BwzN8qpZzYRp",
        "colab_type": "text"
      },
      "source": [
        "## ROC Curve"
      ]
    },
    {
      "cell_type": "code",
      "metadata": {
        "id": "DJNlX8h9jGQJ",
        "colab_type": "code",
        "colab": {}
      },
      "source": [
        "rf2 = RandomForestClassifier(max_depth = 3,\n",
        "       max_features = 'auto', n_estimators = 10, random_state = 94755)"
      ],
      "execution_count": 0,
      "outputs": []
    },
    {
      "cell_type": "code",
      "metadata": {
        "id": "lRXJUYPYyXOC",
        "colab_type": "code",
        "outputId": "d0fbce3b-8f1a-4b6a-81ad-f0f608b11c5c",
        "colab": {
          "base_uri": "https://localhost:8080/",
          "height": 146
        }
      },
      "source": [
        "rf2.fit(higgsdata_train, labels_train.flatten()==\"s\")"
      ],
      "execution_count": 60,
      "outputs": [
        {
          "output_type": "execute_result",
          "data": {
            "text/plain": [
              "RandomForestClassifier(bootstrap=True, class_weight=None, criterion='gini',\n",
              "                       max_depth=3, max_features='auto', max_leaf_nodes=None,\n",
              "                       min_impurity_decrease=0.0, min_impurity_split=None,\n",
              "                       min_samples_leaf=1, min_samples_split=2,\n",
              "                       min_weight_fraction_leaf=0.0, n_estimators=10,\n",
              "                       n_jobs=None, oob_score=False, random_state=94755,\n",
              "                       verbose=0, warm_start=False)"
            ]
          },
          "metadata": {
            "tags": []
          },
          "execution_count": 60
        }
      ]
    },
    {
      "cell_type": "code",
      "metadata": {
        "id": "0SYDAHBPeVWp",
        "colab_type": "code",
        "colab": {
          "base_uri": "https://localhost:8080/",
          "height": 295
        },
        "outputId": "72d29863-c1fd-4782-a79d-4476c0d05851"
      },
      "source": [
        "from sklearn.metrics import roc_curve\n",
        "# y_pred_grd_rfcat = rf2.predict_proba(higgsdata_test)[:,1]\n",
        "\n",
        "fpr_rf, tpr_rf, _ = roc_curve(labels_test.flatten()==\"s\",\n",
        "                              rf2.predict(higgsdata_test))\n",
        "\n",
        "plt.figure(1)\n",
        "plt.plot([0, 1], [0, 1], 'k--')\n",
        "plt.plot(fpr_rf, tpr_rf, label='RF')\n",
        "plt.xlabel('False positive rate')\n",
        "plt.ylabel('True positive rate')\n",
        "plt.title('ROC curve')\n",
        "plt.legend(loc='best')\n",
        "plt.show()\n"
      ],
      "execution_count": 61,
      "outputs": [
        {
          "output_type": "display_data",
          "data": {
            "image/png": "[encoded data removed]",
            "text/plain": [
              "<Figure size 432x288 with 1 Axes>"
            ]
          },
          "metadata": {
            "tags": []
          }
        }
      ]
    },
    {
      "cell_type": "markdown",
      "metadata": {
        "id": "rqNqjEos1hyJ",
        "colab_type": "text"
      },
      "source": [
        "**Figure 3:** The Reciever Operating Characteristic curve for the Random Forest algorithm."
      ]
    },
    {
      "cell_type": "markdown",
      "metadata": {
        "id": "Ou9oal69pId6",
        "colab_type": "text"
      },
      "source": [
        "## 667: Kaggle Evaluation"
      ]
    },
    {
      "cell_type": "code",
      "metadata": {
        "id": "AY2zrUsyka35",
        "colab_type": "code",
        "colab": {
          "base_uri": "https://localhost:8080/",
          "height": 444
        },
        "outputId": "20cad82c-d064-43e2-926b-384a66371b8e"
      },
      "source": [
        "higgsdata_test"
      ],
      "execution_count": 62,
      "outputs": [
        {
          "output_type": "execute_result",
          "data": {
            "text/html": [
              "<div>\n",
              "<style scoped>\n",
              "    .dataframe tbody tr th:only-of-type {\n",
              "        vertical-align: middle;\n",
              "    }\n",
              "\n",
              "    .dataframe tbody tr th {\n",
              "        vertical-align: top;\n",
              "    }\n",
              "\n",
              "    .dataframe thead th {\n",
              "        text-align: right;\n",
              "    }\n",
              "</style>\n",
              "<table border=\"1\" class=\"dataframe\">\n",
              "  <thead>\n",
              "    <tr style=\"text-align: right;\">\n",
              "      <th></th>\n",
              "      <th>EventId</th>\n",
              "      <th>DER_mass_MMC</th>\n",
              "      <th>DER_mass_transverse_met_lep</th>\n",
              "      <th>DER_mass_vis</th>\n",
              "      <th>DER_pt_h</th>\n",
              "      <th>DER_deltaeta_jet_jet</th>\n",
              "      <th>DER_mass_jet_jet</th>\n",
              "      <th>DER_prodeta_jet_jet</th>\n",
              "      <th>DER_deltar_tau_lep</th>\n",
              "      <th>DER_pt_tot</th>\n",
              "      <th>DER_sum_pt</th>\n",
              "      <th>DER_pt_ratio_lep_tau</th>\n",
              "      <th>DER_met_phi_centrality</th>\n",
              "      <th>DER_lep_eta_centrality</th>\n",
              "      <th>PRI_tau_pt</th>\n",
              "      <th>PRI_tau_eta</th>\n",
              "      <th>PRI_tau_phi</th>\n",
              "      <th>PRI_lep_pt</th>\n",
              "      <th>PRI_lep_eta</th>\n",
              "      <th>PRI_lep_phi</th>\n",
              "      <th>PRI_met</th>\n",
              "      <th>PRI_met_phi</th>\n",
              "      <th>PRI_met_sumet</th>\n",
              "      <th>PRI_jet_num</th>\n",
              "      <th>PRI_jet_leading_pt</th>\n",
              "      <th>PRI_jet_leading_eta</th>\n",
              "      <th>PRI_jet_leading_phi</th>\n",
              "      <th>PRI_jet_subleading_pt</th>\n",
              "      <th>PRI_jet_subleading_eta</th>\n",
              "      <th>PRI_jet_subleading_phi</th>\n",
              "      <th>PRI_jet_all_pt</th>\n",
              "    </tr>\n",
              "  </thead>\n",
              "  <tbody>\n",
              "    <tr>\n",
              "      <th>133626</th>\n",
              "      <td>233626</td>\n",
              "      <td>-999.000</td>\n",
              "      <td>90.952</td>\n",
              "      <td>44.779</td>\n",
              "      <td>11.787</td>\n",
              "      <td>-999.000</td>\n",
              "      <td>-999.000</td>\n",
              "      <td>-999.000</td>\n",
              "      <td>1.334</td>\n",
              "      <td>11.787</td>\n",
              "      <td>68.649</td>\n",
              "      <td>0.873</td>\n",
              "      <td>-1.402</td>\n",
              "      <td>-999.000</td>\n",
              "      <td>36.647</td>\n",
              "      <td>-0.141</td>\n",
              "      <td>2.455</td>\n",
              "      <td>32.001</td>\n",
              "      <td>0.653</td>\n",
              "      <td>1.383</td>\n",
              "      <td>68.126</td>\n",
              "      <td>-1.301</td>\n",
              "      <td>186.808</td>\n",
              "      <td>0</td>\n",
              "      <td>-999.000</td>\n",
              "      <td>-999.000</td>\n",
              "      <td>-999.000</td>\n",
              "      <td>-999.000</td>\n",
              "      <td>-999.000</td>\n",
              "      <td>-999.000</td>\n",
              "      <td>0.000</td>\n",
              "    </tr>\n",
              "    <tr>\n",
              "      <th>130139</th>\n",
              "      <td>230139</td>\n",
              "      <td>113.265</td>\n",
              "      <td>84.472</td>\n",
              "      <td>70.433</td>\n",
              "      <td>115.208</td>\n",
              "      <td>1.274</td>\n",
              "      <td>277.954</td>\n",
              "      <td>-0.143</td>\n",
              "      <td>2.312</td>\n",
              "      <td>82.546</td>\n",
              "      <td>346.914</td>\n",
              "      <td>1.312</td>\n",
              "      <td>1.211</td>\n",
              "      <td>0.065</td>\n",
              "      <td>28.638</td>\n",
              "      <td>0.759</td>\n",
              "      <td>-1.330</td>\n",
              "      <td>37.564</td>\n",
              "      <td>-0.540</td>\n",
              "      <td>0.583</td>\n",
              "      <td>86.879</td>\n",
              "      <td>-1.081</td>\n",
              "      <td>472.180</td>\n",
              "      <td>3</td>\n",
              "      <td>117.931</td>\n",
              "      <td>1.150</td>\n",
              "      <td>1.601</td>\n",
              "      <td>112.824</td>\n",
              "      <td>-0.124</td>\n",
              "      <td>-1.899</td>\n",
              "      <td>280.713</td>\n",
              "    </tr>\n",
              "    <tr>\n",
              "      <th>122966</th>\n",
              "      <td>222966</td>\n",
              "      <td>80.944</td>\n",
              "      <td>7.304</td>\n",
              "      <td>52.515</td>\n",
              "      <td>76.038</td>\n",
              "      <td>1.554</td>\n",
              "      <td>133.742</td>\n",
              "      <td>2.989</td>\n",
              "      <td>1.758</td>\n",
              "      <td>43.023</td>\n",
              "      <td>203.078</td>\n",
              "      <td>1.307</td>\n",
              "      <td>1.185</td>\n",
              "      <td>0.001</td>\n",
              "      <td>28.624</td>\n",
              "      <td>-0.450</td>\n",
              "      <td>2.931</td>\n",
              "      <td>37.415</td>\n",
              "      <td>0.217</td>\n",
              "      <td>-1.725</td>\n",
              "      <td>32.235</td>\n",
              "      <td>-1.936</td>\n",
              "      <td>261.155</td>\n",
              "      <td>3</td>\n",
              "      <td>68.814</td>\n",
              "      <td>-2.672</td>\n",
              "      <td>0.609</td>\n",
              "      <td>36.710</td>\n",
              "      <td>-1.119</td>\n",
              "      <td>-2.719</td>\n",
              "      <td>137.039</td>\n",
              "    </tr>\n",
              "    <tr>\n",
              "      <th>159571</th>\n",
              "      <td>259571</td>\n",
              "      <td>159.804</td>\n",
              "      <td>11.674</td>\n",
              "      <td>99.568</td>\n",
              "      <td>96.388</td>\n",
              "      <td>3.843</td>\n",
              "      <td>310.161</td>\n",
              "      <td>-2.073</td>\n",
              "      <td>2.320</td>\n",
              "      <td>21.794</td>\n",
              "      <td>184.576</td>\n",
              "      <td>1.151</td>\n",
              "      <td>1.206</td>\n",
              "      <td>0.788</td>\n",
              "      <td>43.054</td>\n",
              "      <td>-0.974</td>\n",
              "      <td>-0.475</td>\n",
              "      <td>49.560</td>\n",
              "      <td>0.334</td>\n",
              "      <td>-2.391</td>\n",
              "      <td>47.643</td>\n",
              "      <td>-2.150</td>\n",
              "      <td>221.275</td>\n",
              "      <td>2</td>\n",
              "      <td>52.869</td>\n",
              "      <td>-0.649</td>\n",
              "      <td>1.891</td>\n",
              "      <td>39.094</td>\n",
              "      <td>3.194</td>\n",
              "      <td>0.647</td>\n",
              "      <td>91.963</td>\n",
              "    </tr>\n",
              "    <tr>\n",
              "      <th>214502</th>\n",
              "      <td>314502</td>\n",
              "      <td>94.103</td>\n",
              "      <td>2.298</td>\n",
              "      <td>53.741</td>\n",
              "      <td>70.090</td>\n",
              "      <td>-999.000</td>\n",
              "      <td>-999.000</td>\n",
              "      <td>-999.000</td>\n",
              "      <td>2.195</td>\n",
              "      <td>1.682</td>\n",
              "      <td>125.778</td>\n",
              "      <td>1.331</td>\n",
              "      <td>1.063</td>\n",
              "      <td>-999.000</td>\n",
              "      <td>23.418</td>\n",
              "      <td>1.695</td>\n",
              "      <td>-1.936</td>\n",
              "      <td>31.158</td>\n",
              "      <td>0.613</td>\n",
              "      <td>-0.026</td>\n",
              "      <td>42.288</td>\n",
              "      <td>-0.090</td>\n",
              "      <td>135.790</td>\n",
              "      <td>1</td>\n",
              "      <td>71.202</td>\n",
              "      <td>0.073</td>\n",
              "      <td>2.772</td>\n",
              "      <td>-999.000</td>\n",
              "      <td>-999.000</td>\n",
              "      <td>-999.000</td>\n",
              "      <td>71.202</td>\n",
              "    </tr>\n",
              "    <tr>\n",
              "      <th>...</th>\n",
              "      <td>...</td>\n",
              "      <td>...</td>\n",
              "      <td>...</td>\n",
              "      <td>...</td>\n",
              "      <td>...</td>\n",
              "      <td>...</td>\n",
              "      <td>...</td>\n",
              "      <td>...</td>\n",
              "      <td>...</td>\n",
              "      <td>...</td>\n",
              "      <td>...</td>\n",
              "      <td>...</td>\n",
              "      <td>...</td>\n",
              "      <td>...</td>\n",
              "      <td>...</td>\n",
              "      <td>...</td>\n",
              "      <td>...</td>\n",
              "      <td>...</td>\n",
              "      <td>...</td>\n",
              "      <td>...</td>\n",
              "      <td>...</td>\n",
              "      <td>...</td>\n",
              "      <td>...</td>\n",
              "      <td>...</td>\n",
              "      <td>...</td>\n",
              "      <td>...</td>\n",
              "      <td>...</td>\n",
              "      <td>...</td>\n",
              "      <td>...</td>\n",
              "      <td>...</td>\n",
              "      <td>...</td>\n",
              "    </tr>\n",
              "    <tr>\n",
              "      <th>122270</th>\n",
              "      <td>222270</td>\n",
              "      <td>-999.000</td>\n",
              "      <td>107.987</td>\n",
              "      <td>76.891</td>\n",
              "      <td>25.549</td>\n",
              "      <td>-999.000</td>\n",
              "      <td>-999.000</td>\n",
              "      <td>-999.000</td>\n",
              "      <td>2.358</td>\n",
              "      <td>25.549</td>\n",
              "      <td>88.047</td>\n",
              "      <td>1.980</td>\n",
              "      <td>-1.402</td>\n",
              "      <td>-999.000</td>\n",
              "      <td>29.546</td>\n",
              "      <td>0.467</td>\n",
              "      <td>-1.425</td>\n",
              "      <td>58.501</td>\n",
              "      <td>0.422</td>\n",
              "      <td>0.932</td>\n",
              "      <td>60.620</td>\n",
              "      <td>-3.080</td>\n",
              "      <td>102.447</td>\n",
              "      <td>0</td>\n",
              "      <td>-999.000</td>\n",
              "      <td>-999.000</td>\n",
              "      <td>-999.000</td>\n",
              "      <td>-999.000</td>\n",
              "      <td>-999.000</td>\n",
              "      <td>-999.000</td>\n",
              "      <td>-0.000</td>\n",
              "    </tr>\n",
              "    <tr>\n",
              "      <th>142958</th>\n",
              "      <td>242958</td>\n",
              "      <td>-999.000</td>\n",
              "      <td>70.038</td>\n",
              "      <td>56.808</td>\n",
              "      <td>226.561</td>\n",
              "      <td>1.617</td>\n",
              "      <td>222.181</td>\n",
              "      <td>-0.591</td>\n",
              "      <td>0.903</td>\n",
              "      <td>38.181</td>\n",
              "      <td>400.497</td>\n",
              "      <td>0.753</td>\n",
              "      <td>0.150</td>\n",
              "      <td>0.049</td>\n",
              "      <td>70.670</td>\n",
              "      <td>-0.314</td>\n",
              "      <td>-2.000</td>\n",
              "      <td>53.219</td>\n",
              "      <td>-1.154</td>\n",
              "      <td>-2.335</td>\n",
              "      <td>138.158</td>\n",
              "      <td>3.107</td>\n",
              "      <td>541.056</td>\n",
              "      <td>3</td>\n",
              "      <td>166.092</td>\n",
              "      <td>-0.559</td>\n",
              "      <td>0.339</td>\n",
              "      <td>70.995</td>\n",
              "      <td>1.058</td>\n",
              "      <td>1.294</td>\n",
              "      <td>276.607</td>\n",
              "    </tr>\n",
              "    <tr>\n",
              "      <th>82452</th>\n",
              "      <td>182452</td>\n",
              "      <td>238.587</td>\n",
              "      <td>53.528</td>\n",
              "      <td>183.963</td>\n",
              "      <td>52.739</td>\n",
              "      <td>-999.000</td>\n",
              "      <td>-999.000</td>\n",
              "      <td>-999.000</td>\n",
              "      <td>3.660</td>\n",
              "      <td>52.739</td>\n",
              "      <td>115.143</td>\n",
              "      <td>0.324</td>\n",
              "      <td>-1.413</td>\n",
              "      <td>-999.000</td>\n",
              "      <td>86.966</td>\n",
              "      <td>1.374</td>\n",
              "      <td>0.997</td>\n",
              "      <td>28.177</td>\n",
              "      <td>-1.104</td>\n",
              "      <td>-2.593</td>\n",
              "      <td>49.683</td>\n",
              "      <td>-0.998</td>\n",
              "      <td>309.580</td>\n",
              "      <td>0</td>\n",
              "      <td>-999.000</td>\n",
              "      <td>-999.000</td>\n",
              "      <td>-999.000</td>\n",
              "      <td>-999.000</td>\n",
              "      <td>-999.000</td>\n",
              "      <td>-999.000</td>\n",
              "      <td>0.000</td>\n",
              "    </tr>\n",
              "    <tr>\n",
              "      <th>183937</th>\n",
              "      <td>283937</td>\n",
              "      <td>103.500</td>\n",
              "      <td>32.699</td>\n",
              "      <td>83.670</td>\n",
              "      <td>1.100</td>\n",
              "      <td>-999.000</td>\n",
              "      <td>-999.000</td>\n",
              "      <td>-999.000</td>\n",
              "      <td>2.853</td>\n",
              "      <td>1.100</td>\n",
              "      <td>74.744</td>\n",
              "      <td>0.799</td>\n",
              "      <td>-1.405</td>\n",
              "      <td>-999.000</td>\n",
              "      <td>41.540</td>\n",
              "      <td>-0.810</td>\n",
              "      <td>-1.530</td>\n",
              "      <td>33.204</td>\n",
              "      <td>-1.905</td>\n",
              "      <td>1.104</td>\n",
              "      <td>19.397</td>\n",
              "      <td>2.504</td>\n",
              "      <td>106.939</td>\n",
              "      <td>0</td>\n",
              "      <td>-999.000</td>\n",
              "      <td>-999.000</td>\n",
              "      <td>-999.000</td>\n",
              "      <td>-999.000</td>\n",
              "      <td>-999.000</td>\n",
              "      <td>-999.000</td>\n",
              "      <td>0.000</td>\n",
              "    </tr>\n",
              "    <tr>\n",
              "      <th>120</th>\n",
              "      <td>100120</td>\n",
              "      <td>351.217</td>\n",
              "      <td>9.132</td>\n",
              "      <td>290.837</td>\n",
              "      <td>23.855</td>\n",
              "      <td>-999.000</td>\n",
              "      <td>-999.000</td>\n",
              "      <td>-999.000</td>\n",
              "      <td>3.407</td>\n",
              "      <td>23.855</td>\n",
              "      <td>213.762</td>\n",
              "      <td>0.925</td>\n",
              "      <td>1.367</td>\n",
              "      <td>-999.000</td>\n",
              "      <td>111.047</td>\n",
              "      <td>-0.707</td>\n",
              "      <td>1.081</td>\n",
              "      <td>102.715</td>\n",
              "      <td>0.952</td>\n",
              "      <td>-2.226</td>\n",
              "      <td>16.643</td>\n",
              "      <td>-2.447</td>\n",
              "      <td>279.081</td>\n",
              "      <td>0</td>\n",
              "      <td>-999.000</td>\n",
              "      <td>-999.000</td>\n",
              "      <td>-999.000</td>\n",
              "      <td>-999.000</td>\n",
              "      <td>-999.000</td>\n",
              "      <td>-999.000</td>\n",
              "      <td>0.000</td>\n",
              "    </tr>\n",
              "  </tbody>\n",
              "</table>\n",
              "<p>62500 rows × 31 columns</p>\n",
              "</div>"
            ],
            "text/plain": [
              "        EventId  DER_mass_MMC  ...  PRI_jet_subleading_phi  PRI_jet_all_pt\n",
              "133626   233626      -999.000  ...                -999.000           0.000\n",
              "130139   230139       113.265  ...                  -1.899         280.713\n",
              "122966   222966        80.944  ...                  -2.719         137.039\n",
              "159571   259571       159.804  ...                   0.647          91.963\n",
              "214502   314502        94.103  ...                -999.000          71.202\n",
              "...         ...           ...  ...                     ...             ...\n",
              "122270   222270      -999.000  ...                -999.000          -0.000\n",
              "142958   242958      -999.000  ...                   1.294         276.607\n",
              "82452    182452       238.587  ...                -999.000           0.000\n",
              "183937   283937       103.500  ...                -999.000           0.000\n",
              "120      100120       351.217  ...                -999.000           0.000\n",
              "\n",
              "[62500 rows x 31 columns]"
            ]
          },
          "metadata": {
            "tags": []
          },
          "execution_count": 62
        }
      ]
    },
    {
      "cell_type": "code",
      "metadata": {
        "id": "jM3Emmjukcz9",
        "colab_type": "code",
        "colab": {
          "base_uri": "https://localhost:8080/",
          "height": 444
        },
        "outputId": "52dbf448-be74-4cc1-ebe3-ef081b99acea"
      },
      "source": [
        "pd.read_csv(\"test.csv\")"
      ],
      "execution_count": 63,
      "outputs": [
        {
          "output_type": "execute_result",
          "data": {
            "text/html": [
              "<div>\n",
              "<style scoped>\n",
              "    .dataframe tbody tr th:only-of-type {\n",
              "        vertical-align: middle;\n",
              "    }\n",
              "\n",
              "    .dataframe tbody tr th {\n",
              "        vertical-align: top;\n",
              "    }\n",
              "\n",
              "    .dataframe thead th {\n",
              "        text-align: right;\n",
              "    }\n",
              "</style>\n",
              "<table border=\"1\" class=\"dataframe\">\n",
              "  <thead>\n",
              "    <tr style=\"text-align: right;\">\n",
              "      <th></th>\n",
              "      <th>EventId</th>\n",
              "      <th>DER_mass_MMC</th>\n",
              "      <th>DER_mass_transverse_met_lep</th>\n",
              "      <th>DER_mass_vis</th>\n",
              "      <th>DER_pt_h</th>\n",
              "      <th>DER_deltaeta_jet_jet</th>\n",
              "      <th>DER_mass_jet_jet</th>\n",
              "      <th>DER_prodeta_jet_jet</th>\n",
              "      <th>DER_deltar_tau_lep</th>\n",
              "      <th>DER_pt_tot</th>\n",
              "      <th>DER_sum_pt</th>\n",
              "      <th>DER_pt_ratio_lep_tau</th>\n",
              "      <th>DER_met_phi_centrality</th>\n",
              "      <th>DER_lep_eta_centrality</th>\n",
              "      <th>PRI_tau_pt</th>\n",
              "      <th>PRI_tau_eta</th>\n",
              "      <th>PRI_tau_phi</th>\n",
              "      <th>PRI_lep_pt</th>\n",
              "      <th>PRI_lep_eta</th>\n",
              "      <th>PRI_lep_phi</th>\n",
              "      <th>PRI_met</th>\n",
              "      <th>PRI_met_phi</th>\n",
              "      <th>PRI_met_sumet</th>\n",
              "      <th>PRI_jet_num</th>\n",
              "      <th>PRI_jet_leading_pt</th>\n",
              "      <th>PRI_jet_leading_eta</th>\n",
              "      <th>PRI_jet_leading_phi</th>\n",
              "      <th>PRI_jet_subleading_pt</th>\n",
              "      <th>PRI_jet_subleading_eta</th>\n",
              "      <th>PRI_jet_subleading_phi</th>\n",
              "      <th>PRI_jet_all_pt</th>\n",
              "    </tr>\n",
              "  </thead>\n",
              "  <tbody>\n",
              "    <tr>\n",
              "      <th>0</th>\n",
              "      <td>350000</td>\n",
              "      <td>-999.000</td>\n",
              "      <td>79.589</td>\n",
              "      <td>23.916</td>\n",
              "      <td>3.036</td>\n",
              "      <td>-999.000</td>\n",
              "      <td>-999.000</td>\n",
              "      <td>-999.000</td>\n",
              "      <td>0.903</td>\n",
              "      <td>3.036</td>\n",
              "      <td>56.018</td>\n",
              "      <td>1.536</td>\n",
              "      <td>-1.404</td>\n",
              "      <td>-999.000</td>\n",
              "      <td>22.088</td>\n",
              "      <td>-0.540</td>\n",
              "      <td>-0.609</td>\n",
              "      <td>33.930</td>\n",
              "      <td>-0.504</td>\n",
              "      <td>-1.511</td>\n",
              "      <td>48.509</td>\n",
              "      <td>2.022</td>\n",
              "      <td>98.556</td>\n",
              "      <td>0</td>\n",
              "      <td>-999.000</td>\n",
              "      <td>-999.000</td>\n",
              "      <td>-999.000</td>\n",
              "      <td>-999.000</td>\n",
              "      <td>-999.000</td>\n",
              "      <td>-999.000</td>\n",
              "      <td>-0.000</td>\n",
              "    </tr>\n",
              "    <tr>\n",
              "      <th>1</th>\n",
              "      <td>350001</td>\n",
              "      <td>106.398</td>\n",
              "      <td>67.490</td>\n",
              "      <td>87.949</td>\n",
              "      <td>49.994</td>\n",
              "      <td>-999.000</td>\n",
              "      <td>-999.000</td>\n",
              "      <td>-999.000</td>\n",
              "      <td>2.048</td>\n",
              "      <td>2.679</td>\n",
              "      <td>132.865</td>\n",
              "      <td>1.777</td>\n",
              "      <td>-1.204</td>\n",
              "      <td>-999.000</td>\n",
              "      <td>30.716</td>\n",
              "      <td>-1.784</td>\n",
              "      <td>3.054</td>\n",
              "      <td>54.574</td>\n",
              "      <td>-0.169</td>\n",
              "      <td>1.795</td>\n",
              "      <td>21.093</td>\n",
              "      <td>-1.138</td>\n",
              "      <td>176.251</td>\n",
              "      <td>1</td>\n",
              "      <td>47.575</td>\n",
              "      <td>-0.553</td>\n",
              "      <td>-0.849</td>\n",
              "      <td>-999.000</td>\n",
              "      <td>-999.000</td>\n",
              "      <td>-999.000</td>\n",
              "      <td>47.575</td>\n",
              "    </tr>\n",
              "    <tr>\n",
              "      <th>2</th>\n",
              "      <td>350002</td>\n",
              "      <td>117.794</td>\n",
              "      <td>56.226</td>\n",
              "      <td>96.358</td>\n",
              "      <td>4.137</td>\n",
              "      <td>-999.000</td>\n",
              "      <td>-999.000</td>\n",
              "      <td>-999.000</td>\n",
              "      <td>2.755</td>\n",
              "      <td>4.137</td>\n",
              "      <td>97.600</td>\n",
              "      <td>1.096</td>\n",
              "      <td>-1.408</td>\n",
              "      <td>-999.000</td>\n",
              "      <td>46.564</td>\n",
              "      <td>-0.298</td>\n",
              "      <td>3.079</td>\n",
              "      <td>51.036</td>\n",
              "      <td>-0.548</td>\n",
              "      <td>0.336</td>\n",
              "      <td>19.461</td>\n",
              "      <td>-1.868</td>\n",
              "      <td>111.505</td>\n",
              "      <td>0</td>\n",
              "      <td>-999.000</td>\n",
              "      <td>-999.000</td>\n",
              "      <td>-999.000</td>\n",
              "      <td>-999.000</td>\n",
              "      <td>-999.000</td>\n",
              "      <td>-999.000</td>\n",
              "      <td>0.000</td>\n",
              "    </tr>\n",
              "    <tr>\n",
              "      <th>3</th>\n",
              "      <td>350003</td>\n",
              "      <td>135.861</td>\n",
              "      <td>30.604</td>\n",
              "      <td>97.288</td>\n",
              "      <td>9.104</td>\n",
              "      <td>-999.000</td>\n",
              "      <td>-999.000</td>\n",
              "      <td>-999.000</td>\n",
              "      <td>2.811</td>\n",
              "      <td>9.104</td>\n",
              "      <td>94.112</td>\n",
              "      <td>0.819</td>\n",
              "      <td>-1.382</td>\n",
              "      <td>-999.000</td>\n",
              "      <td>51.741</td>\n",
              "      <td>0.388</td>\n",
              "      <td>-1.408</td>\n",
              "      <td>42.371</td>\n",
              "      <td>-0.295</td>\n",
              "      <td>2.148</td>\n",
              "      <td>25.131</td>\n",
              "      <td>1.172</td>\n",
              "      <td>164.707</td>\n",
              "      <td>0</td>\n",
              "      <td>-999.000</td>\n",
              "      <td>-999.000</td>\n",
              "      <td>-999.000</td>\n",
              "      <td>-999.000</td>\n",
              "      <td>-999.000</td>\n",
              "      <td>-999.000</td>\n",
              "      <td>0.000</td>\n",
              "    </tr>\n",
              "    <tr>\n",
              "      <th>4</th>\n",
              "      <td>350004</td>\n",
              "      <td>74.159</td>\n",
              "      <td>82.772</td>\n",
              "      <td>58.731</td>\n",
              "      <td>89.646</td>\n",
              "      <td>1.347</td>\n",
              "      <td>536.663</td>\n",
              "      <td>-0.339</td>\n",
              "      <td>1.028</td>\n",
              "      <td>77.213</td>\n",
              "      <td>721.552</td>\n",
              "      <td>1.713</td>\n",
              "      <td>-0.913</td>\n",
              "      <td>0.004</td>\n",
              "      <td>45.087</td>\n",
              "      <td>-1.548</td>\n",
              "      <td>1.877</td>\n",
              "      <td>77.252</td>\n",
              "      <td>-1.913</td>\n",
              "      <td>2.838</td>\n",
              "      <td>22.200</td>\n",
              "      <td>-0.231</td>\n",
              "      <td>869.614</td>\n",
              "      <td>3</td>\n",
              "      <td>254.085</td>\n",
              "      <td>-1.013</td>\n",
              "      <td>-0.334</td>\n",
              "      <td>185.857</td>\n",
              "      <td>0.335</td>\n",
              "      <td>2.587</td>\n",
              "      <td>599.213</td>\n",
              "    </tr>\n",
              "    <tr>\n",
              "      <th>...</th>\n",
              "      <td>...</td>\n",
              "      <td>...</td>\n",
              "      <td>...</td>\n",
              "      <td>...</td>\n",
              "      <td>...</td>\n",
              "      <td>...</td>\n",
              "      <td>...</td>\n",
              "      <td>...</td>\n",
              "      <td>...</td>\n",
              "      <td>...</td>\n",
              "      <td>...</td>\n",
              "      <td>...</td>\n",
              "      <td>...</td>\n",
              "      <td>...</td>\n",
              "      <td>...</td>\n",
              "      <td>...</td>\n",
              "      <td>...</td>\n",
              "      <td>...</td>\n",
              "      <td>...</td>\n",
              "      <td>...</td>\n",
              "      <td>...</td>\n",
              "      <td>...</td>\n",
              "      <td>...</td>\n",
              "      <td>...</td>\n",
              "      <td>...</td>\n",
              "      <td>...</td>\n",
              "      <td>...</td>\n",
              "      <td>...</td>\n",
              "      <td>...</td>\n",
              "      <td>...</td>\n",
              "      <td>...</td>\n",
              "    </tr>\n",
              "    <tr>\n",
              "      <th>549995</th>\n",
              "      <td>899995</td>\n",
              "      <td>309.530</td>\n",
              "      <td>28.185</td>\n",
              "      <td>170.795</td>\n",
              "      <td>99.349</td>\n",
              "      <td>-999.000</td>\n",
              "      <td>-999.000</td>\n",
              "      <td>-999.000</td>\n",
              "      <td>3.061</td>\n",
              "      <td>2.367</td>\n",
              "      <td>212.640</td>\n",
              "      <td>0.708</td>\n",
              "      <td>1.346</td>\n",
              "      <td>-999.000</td>\n",
              "      <td>67.429</td>\n",
              "      <td>0.657</td>\n",
              "      <td>-2.560</td>\n",
              "      <td>47.761</td>\n",
              "      <td>-1.372</td>\n",
              "      <td>1.431</td>\n",
              "      <td>61.754</td>\n",
              "      <td>1.956</td>\n",
              "      <td>177.103</td>\n",
              "      <td>1</td>\n",
              "      <td>97.451</td>\n",
              "      <td>-1.759</td>\n",
              "      <td>-0.733</td>\n",
              "      <td>-999.000</td>\n",
              "      <td>-999.000</td>\n",
              "      <td>-999.000</td>\n",
              "      <td>97.451</td>\n",
              "    </tr>\n",
              "    <tr>\n",
              "      <th>549996</th>\n",
              "      <td>899996</td>\n",
              "      <td>105.653</td>\n",
              "      <td>5.096</td>\n",
              "      <td>77.256</td>\n",
              "      <td>33.040</td>\n",
              "      <td>-999.000</td>\n",
              "      <td>-999.000</td>\n",
              "      <td>-999.000</td>\n",
              "      <td>2.693</td>\n",
              "      <td>33.040</td>\n",
              "      <td>62.279</td>\n",
              "      <td>0.948</td>\n",
              "      <td>0.551</td>\n",
              "      <td>-999.000</td>\n",
              "      <td>31.964</td>\n",
              "      <td>0.162</td>\n",
              "      <td>-2.624</td>\n",
              "      <td>30.315</td>\n",
              "      <td>-1.404</td>\n",
              "      <td>-0.432</td>\n",
              "      <td>12.670</td>\n",
              "      <td>-0.172</td>\n",
              "      <td>130.730</td>\n",
              "      <td>0</td>\n",
              "      <td>-999.000</td>\n",
              "      <td>-999.000</td>\n",
              "      <td>-999.000</td>\n",
              "      <td>-999.000</td>\n",
              "      <td>-999.000</td>\n",
              "      <td>-999.000</td>\n",
              "      <td>-0.000</td>\n",
              "    </tr>\n",
              "    <tr>\n",
              "      <th>549997</th>\n",
              "      <td>899997</td>\n",
              "      <td>-999.000</td>\n",
              "      <td>69.470</td>\n",
              "      <td>51.766</td>\n",
              "      <td>1.189</td>\n",
              "      <td>-999.000</td>\n",
              "      <td>-999.000</td>\n",
              "      <td>-999.000</td>\n",
              "      <td>1.615</td>\n",
              "      <td>1.189</td>\n",
              "      <td>72.350</td>\n",
              "      <td>0.752</td>\n",
              "      <td>-1.398</td>\n",
              "      <td>-999.000</td>\n",
              "      <td>41.290</td>\n",
              "      <td>0.559</td>\n",
              "      <td>-2.156</td>\n",
              "      <td>31.060</td>\n",
              "      <td>0.578</td>\n",
              "      <td>2.512</td>\n",
              "      <td>49.505</td>\n",
              "      <td>0.336</td>\n",
              "      <td>71.646</td>\n",
              "      <td>0</td>\n",
              "      <td>-999.000</td>\n",
              "      <td>-999.000</td>\n",
              "      <td>-999.000</td>\n",
              "      <td>-999.000</td>\n",
              "      <td>-999.000</td>\n",
              "      <td>-999.000</td>\n",
              "      <td>-0.000</td>\n",
              "    </tr>\n",
              "    <tr>\n",
              "      <th>549998</th>\n",
              "      <td>899998</td>\n",
              "      <td>107.254</td>\n",
              "      <td>13.500</td>\n",
              "      <td>79.833</td>\n",
              "      <td>50.801</td>\n",
              "      <td>-999.000</td>\n",
              "      <td>-999.000</td>\n",
              "      <td>-999.000</td>\n",
              "      <td>2.026</td>\n",
              "      <td>7.993</td>\n",
              "      <td>135.762</td>\n",
              "      <td>1.087</td>\n",
              "      <td>-0.288</td>\n",
              "      <td>-999.000</td>\n",
              "      <td>44.403</td>\n",
              "      <td>-0.504</td>\n",
              "      <td>1.710</td>\n",
              "      <td>48.260</td>\n",
              "      <td>-0.096</td>\n",
              "      <td>-0.274</td>\n",
              "      <td>7.741</td>\n",
              "      <td>-0.988</td>\n",
              "      <td>243.371</td>\n",
              "      <td>1</td>\n",
              "      <td>43.099</td>\n",
              "      <td>-0.352</td>\n",
              "      <td>-2.594</td>\n",
              "      <td>-999.000</td>\n",
              "      <td>-999.000</td>\n",
              "      <td>-999.000</td>\n",
              "      <td>43.099</td>\n",
              "    </tr>\n",
              "    <tr>\n",
              "      <th>549999</th>\n",
              "      <td>899999</td>\n",
              "      <td>107.961</td>\n",
              "      <td>85.200</td>\n",
              "      <td>75.670</td>\n",
              "      <td>42.009</td>\n",
              "      <td>-999.000</td>\n",
              "      <td>-999.000</td>\n",
              "      <td>-999.000</td>\n",
              "      <td>2.877</td>\n",
              "      <td>7.699</td>\n",
              "      <td>130.114</td>\n",
              "      <td>2.175</td>\n",
              "      <td>1.401</td>\n",
              "      <td>-999.000</td>\n",
              "      <td>25.473</td>\n",
              "      <td>-1.098</td>\n",
              "      <td>2.681</td>\n",
              "      <td>55.410</td>\n",
              "      <td>-0.731</td>\n",
              "      <td>-0.173</td>\n",
              "      <td>41.663</td>\n",
              "      <td>2.007</td>\n",
              "      <td>183.695</td>\n",
              "      <td>1</td>\n",
              "      <td>49.231</td>\n",
              "      <td>-0.234</td>\n",
              "      <td>-1.973</td>\n",
              "      <td>-999.000</td>\n",
              "      <td>-999.000</td>\n",
              "      <td>-999.000</td>\n",
              "      <td>49.231</td>\n",
              "    </tr>\n",
              "  </tbody>\n",
              "</table>\n",
              "<p>550000 rows × 31 columns</p>\n",
              "</div>"
            ],
            "text/plain": [
              "        EventId  DER_mass_MMC  ...  PRI_jet_subleading_phi  PRI_jet_all_pt\n",
              "0        350000      -999.000  ...                -999.000          -0.000\n",
              "1        350001       106.398  ...                -999.000          47.575\n",
              "2        350002       117.794  ...                -999.000           0.000\n",
              "3        350003       135.861  ...                -999.000           0.000\n",
              "4        350004        74.159  ...                   2.587         599.213\n",
              "...         ...           ...  ...                     ...             ...\n",
              "549995   899995       309.530  ...                -999.000          97.451\n",
              "549996   899996       105.653  ...                -999.000          -0.000\n",
              "549997   899997      -999.000  ...                -999.000          -0.000\n",
              "549998   899998       107.254  ...                -999.000          43.099\n",
              "549999   899999       107.961  ...                -999.000          49.231\n",
              "\n",
              "[550000 rows x 31 columns]"
            ]
          },
          "metadata": {
            "tags": []
          },
          "execution_count": 63
        }
      ]
    },
    {
      "cell_type": "code",
      "metadata": {
        "id": "e3K2JqoLqUFk",
        "colab_type": "code",
        "colab": {}
      },
      "source": [
        "solutions_bools = rf2.predict(higgsdata_test.values)\n",
        "\n",
        "submission_signals = np.empty_like(solutions_bools, dtype=str)\n",
        "\n",
        "for i in range(len(solutions_bools)):\n",
        "    if solutions_bools[i]:\n",
        "        submission_signals[i] = 's'\n",
        "    else:\n",
        "        submission_signals[i] = 'b'"
      ],
      "execution_count": 0,
      "outputs": []
    },
    {
      "cell_type": "code",
      "metadata": {
        "id": "CFx6T9iOq4Qw",
        "colab_type": "code",
        "colab": {
          "base_uri": "https://localhost:8080/",
          "height": 54
        },
        "outputId": "ee3196ab-a652-4b9c-b3ee-deea29476e3a"
      },
      "source": [
        "submission_signals[:13]"
      ],
      "execution_count": 65,
      "outputs": [
        {
          "output_type": "execute_result",
          "data": {
            "text/plain": [
              "array(['b', 'b', 'b', 's', 'b', 'b', 'b', 'b', 'b', 's', 'b', 'b', 's'],\n",
              "      dtype='<U1')"
            ]
          },
          "metadata": {
            "tags": []
          },
          "execution_count": 65
        }
      ]
    },
    {
      "cell_type": "code",
      "metadata": {
        "id": "knx7yrX3rInk",
        "colab_type": "code",
        "colab": {
          "base_uri": "https://localhost:8080/",
          "height": 54
        },
        "outputId": "50dd414f-8f68-4703-a9ea-12aba6c50bce"
      },
      "source": [
        "labels_test[:13]"
      ],
      "execution_count": 66,
      "outputs": [
        {
          "output_type": "execute_result",
          "data": {
            "text/plain": [
              "array(['b', 'b', 'b', 's', 'b', 'b', 's', 'b', 'b', 's', 'b', 'b', 's'],\n",
              "      dtype=object)"
            ]
          },
          "metadata": {
            "tags": []
          },
          "execution_count": 66
        }
      ]
    },
    {
      "cell_type": "code",
      "metadata": {
        "id": "azl8h2pTvtwg",
        "colab_type": "code",
        "colab": {
          "base_uri": "https://localhost:8080/",
          "height": 54
        },
        "outputId": "0611de6a-b3dc-4e63-9fa8-3ed605da1e6b"
      },
      "source": [
        "weights_test"
      ],
      "execution_count": 67,
      "outputs": [
        {
          "output_type": "execute_result",
          "data": {
            "text/plain": [
              "array([0.74405625, 0.74405625, 0.06406078, ..., 0.74405625, 0.01863612,\n",
              "       1.68161144])"
            ]
          },
          "metadata": {
            "tags": []
          },
          "execution_count": 67
        }
      ]
    },
    {
      "cell_type": "code",
      "metadata": {
        "id": "KB234u5kxHms",
        "colab_type": "code",
        "colab": {}
      },
      "source": [
        "shea_submission = pd.DataFrame()"
      ],
      "execution_count": 0,
      "outputs": []
    },
    {
      "cell_type": "code",
      "metadata": {
        "id": "Sn-pssyFxnBa",
        "colab_type": "code",
        "colab": {
          "base_uri": "https://localhost:8080/",
          "height": 35
        },
        "outputId": "4fafe659-bd87-4ede-fcce-b2401b22794a"
      },
      "source": [
        "labels_test"
      ],
      "execution_count": 69,
      "outputs": [
        {
          "output_type": "execute_result",
          "data": {
            "text/plain": [
              "array(['b', 'b', 'b', ..., 'b', 's', 'b'], dtype=object)"
            ]
          },
          "metadata": {
            "tags": []
          },
          "execution_count": 69
        }
      ]
    },
    {
      "cell_type": "code",
      "metadata": {
        "id": "iK9ELDG7xc-W",
        "colab_type": "code",
        "colab": {}
      },
      "source": [
        "shea_submission['EventId'] = higgsdata_test['EventId']\n",
        "shea_submission['Weight'] = gbtR.predict(higgsdata_test.values)\n",
        "shea_submission['Label'] = submission_signals\n",
        "shea_submission['RankOrder'] = np.argsort(shea_submission['Weight'])"
      ],
      "execution_count": 0,
      "outputs": []
    },
    {
      "cell_type": "code",
      "metadata": {
        "id": "UBU8u2evH14F",
        "colab_type": "code",
        "colab": {
          "base_uri": "https://localhost:8080/",
          "height": 424
        },
        "outputId": "40343112-1e9f-47f2-ed65-6a34d79508ea"
      },
      "source": [
        "shea_submission"
      ],
      "execution_count": 71,
      "outputs": [
        {
          "output_type": "execute_result",
          "data": {
            "text/html": [
              "<div>\n",
              "<style scoped>\n",
              "    .dataframe tbody tr th:only-of-type {\n",
              "        vertical-align: middle;\n",
              "    }\n",
              "\n",
              "    .dataframe tbody tr th {\n",
              "        vertical-align: top;\n",
              "    }\n",
              "\n",
              "    .dataframe thead th {\n",
              "        text-align: right;\n",
              "    }\n",
              "</style>\n",
              "<table border=\"1\" class=\"dataframe\">\n",
              "  <thead>\n",
              "    <tr style=\"text-align: right;\">\n",
              "      <th></th>\n",
              "      <th>EventId</th>\n",
              "      <th>Weight</th>\n",
              "      <th>Label</th>\n",
              "      <th>RankOrder</th>\n",
              "    </tr>\n",
              "  </thead>\n",
              "  <tbody>\n",
              "    <tr>\n",
              "      <th>133626</th>\n",
              "      <td>233626</td>\n",
              "      <td>2.836175</td>\n",
              "      <td>b</td>\n",
              "      <td>57971</td>\n",
              "    </tr>\n",
              "    <tr>\n",
              "      <th>130139</th>\n",
              "      <td>230139</td>\n",
              "      <td>0.380457</td>\n",
              "      <td>b</td>\n",
              "      <td>39838</td>\n",
              "    </tr>\n",
              "    <tr>\n",
              "      <th>122966</th>\n",
              "      <td>222966</td>\n",
              "      <td>0.411099</td>\n",
              "      <td>b</td>\n",
              "      <td>7285</td>\n",
              "    </tr>\n",
              "    <tr>\n",
              "      <th>159571</th>\n",
              "      <td>259571</td>\n",
              "      <td>0.052113</td>\n",
              "      <td>s</td>\n",
              "      <td>43092</td>\n",
              "    </tr>\n",
              "    <tr>\n",
              "      <th>214502</th>\n",
              "      <td>314502</td>\n",
              "      <td>1.124969</td>\n",
              "      <td>b</td>\n",
              "      <td>23051</td>\n",
              "    </tr>\n",
              "    <tr>\n",
              "      <th>...</th>\n",
              "      <td>...</td>\n",
              "      <td>...</td>\n",
              "      <td>...</td>\n",
              "      <td>...</td>\n",
              "    </tr>\n",
              "    <tr>\n",
              "      <th>122270</th>\n",
              "      <td>222270</td>\n",
              "      <td>2.962099</td>\n",
              "      <td>b</td>\n",
              "      <td>56606</td>\n",
              "    </tr>\n",
              "    <tr>\n",
              "      <th>142958</th>\n",
              "      <td>242958</td>\n",
              "      <td>0.572383</td>\n",
              "      <td>b</td>\n",
              "      <td>53433</td>\n",
              "    </tr>\n",
              "    <tr>\n",
              "      <th>82452</th>\n",
              "      <td>182452</td>\n",
              "      <td>2.635475</td>\n",
              "      <td>b</td>\n",
              "      <td>56867</td>\n",
              "    </tr>\n",
              "    <tr>\n",
              "      <th>183937</th>\n",
              "      <td>283937</td>\n",
              "      <td>1.213209</td>\n",
              "      <td>s</td>\n",
              "      <td>58483</td>\n",
              "    </tr>\n",
              "    <tr>\n",
              "      <th>120</th>\n",
              "      <td>100120</td>\n",
              "      <td>1.661149</td>\n",
              "      <td>b</td>\n",
              "      <td>7414</td>\n",
              "    </tr>\n",
              "  </tbody>\n",
              "</table>\n",
              "<p>62500 rows × 4 columns</p>\n",
              "</div>"
            ],
            "text/plain": [
              "        EventId    Weight Label  RankOrder\n",
              "133626   233626  2.836175     b      57971\n",
              "130139   230139  0.380457     b      39838\n",
              "122966   222966  0.411099     b       7285\n",
              "159571   259571  0.052113     s      43092\n",
              "214502   314502  1.124969     b      23051\n",
              "...         ...       ...   ...        ...\n",
              "122270   222270  2.962099     b      56606\n",
              "142958   242958  0.572383     b      53433\n",
              "82452    182452  2.635475     b      56867\n",
              "183937   283937  1.213209     s      58483\n",
              "120      100120  1.661149     b       7414\n",
              "\n",
              "[62500 rows x 4 columns]"
            ]
          },
          "metadata": {
            "tags": []
          },
          "execution_count": 71
        }
      ]
    },
    {
      "cell_type": "code",
      "metadata": {
        "id": "pLYx9nGvy5a4",
        "colab_type": "code",
        "colab": {}
      },
      "source": [
        "shea_submission.to_csv('/content/drive/My Drive/dsps/HW9/\\\n",
        "kaggleHiggsBoson/mysubmission.csv', columns=['EventId', 'RankOrder', 'Label'],\n",
        "index = False)"
      ],
      "execution_count": 0,
      "outputs": []
    },
    {
      "cell_type": "code",
      "metadata": {
        "id": "Nwy8Lz-laCN1",
        "colab_type": "code",
        "colab": {}
      },
      "source": [
        "shea_solution = pd.DataFrame()"
      ],
      "execution_count": 0,
      "outputs": []
    },
    {
      "cell_type": "code",
      "metadata": {
        "id": "P650w3VCa9ug",
        "colab_type": "code",
        "colab": {}
      },
      "source": [
        "shea_solution['EventId'] = higgsdata_test['EventId']\n",
        "shea_solution['Label'] = labels_test\n",
        "shea_solution['Weight'] = weights_test"
      ],
      "execution_count": 0,
      "outputs": []
    },
    {
      "cell_type": "code",
      "metadata": {
        "id": "kTF_b8CIbeCy",
        "colab_type": "code",
        "colab": {}
      },
      "source": [
        "shea_solution.to_csv('/content/drive/My Drive/dsps/HW9/\\\n",
        "kaggleHiggsBoson/mysolution.csv', index = False)"
      ],
      "execution_count": 0,
      "outputs": []
    },
    {
      "cell_type": "code",
      "metadata": {
        "id": "ayZpCDnabkRx",
        "colab_type": "code",
        "colab": {
          "base_uri": "https://localhost:8080/",
          "height": 54
        },
        "outputId": "9f231df9-09b8-4588-c824-32ec6ec0f4fe"
      },
      "source": [
        "!python2 HiggsBosonCompetition_AMSMetric_rev1.py"
      ],
      "execution_count": 76,
      "outputs": [
        {
          "output_type": "stream",
          "text": [
            "signal = 84.6748834128, background = 4379.46241715\n",
            "AMS = 1.27397685646\n"
          ],
          "name": "stdout"
        }
      ]
    },
    {
      "cell_type": "markdown",
      "metadata": {
        "id": "FMKrLUb64zSk",
        "colab_type": "text"
      },
      "source": [
        "This AMS score is quite low: with approximately 1600 of the 1800 participants finding a higher score. Part of this may be due to the fluctuation in \"ideal\" parameters between runs. This is a bit confusing as it appears I've set a random seed at every stage along the way. Of course, there are many other features that could be used in this analysis, which I'm sure many of the other submissions used."
      ]
    }
  ]
}